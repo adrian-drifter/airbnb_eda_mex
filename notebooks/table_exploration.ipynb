{
 "cells": [
  {
   "cell_type": "markdown",
   "id": "f1e9fc76",
   "metadata": {},
   "source": [
    "# This notebook will explore the airbnb data from Mex. City\n"
   ]
  },
  {
   "cell_type": "markdown",
   "id": "e2e04c2e",
   "metadata": {},
   "source": [
    " Importing the necessary packages and loading the datasets"
   ]
  },
  {
   "cell_type": "code",
   "execution_count": 49,
   "id": "986d8a33",
   "metadata": {},
   "outputs": [],
   "source": [
    "import pandas as pd\n",
    "import numpy as np\n",
    "import matplotlib.pyplot as plt\n",
    "import seaborn as sns\n",
    "from sklearn.impute import SimpleImputer"
   ]
  },
  {
   "cell_type": "code",
   "execution_count": 2,
   "id": "acd6c983",
   "metadata": {},
   "outputs": [],
   "source": [
    "calendar_df = pd.read_csv('../raw_data/mexico/calendar.csv')\n",
    "list_df = pd.read_csv('../raw_data/mexico/listings.csv')\n",
    "rev_df = pd.read_csv('../raw_data/mexico/reviews.csv')"
   ]
  },
  {
   "cell_type": "markdown",
   "id": "aa0c7591",
   "metadata": {},
   "source": [
    "### Displaying the first three rows of every dataframe(df) in order to know the tables"
   ]
  },
  {
   "cell_type": "code",
   "execution_count": 4,
   "id": "4d9064ce",
   "metadata": {},
   "outputs": [
    {
     "data": {
      "text/html": [
       "<div>\n",
       "<style scoped>\n",
       "    .dataframe tbody tr th:only-of-type {\n",
       "        vertical-align: middle;\n",
       "    }\n",
       "\n",
       "    .dataframe tbody tr th {\n",
       "        vertical-align: top;\n",
       "    }\n",
       "\n",
       "    .dataframe thead th {\n",
       "        text-align: right;\n",
       "    }\n",
       "</style>\n",
       "<table border=\"1\" class=\"dataframe\">\n",
       "  <thead>\n",
       "    <tr style=\"text-align: right;\">\n",
       "      <th></th>\n",
       "      <th>id</th>\n",
       "      <th>name</th>\n",
       "      <th>host_id</th>\n",
       "      <th>host_name</th>\n",
       "      <th>neighbourhood_group</th>\n",
       "      <th>neighbourhood</th>\n",
       "      <th>latitude</th>\n",
       "      <th>longitude</th>\n",
       "      <th>room_type</th>\n",
       "      <th>price</th>\n",
       "      <th>minimum_nights</th>\n",
       "      <th>number_of_reviews</th>\n",
       "      <th>last_review</th>\n",
       "      <th>reviews_per_month</th>\n",
       "      <th>calculated_host_listings_count</th>\n",
       "      <th>availability_365</th>\n",
       "      <th>number_of_reviews_ltm</th>\n",
       "      <th>license</th>\n",
       "    </tr>\n",
       "  </thead>\n",
       "  <tbody>\n",
       "    <tr>\n",
       "      <th>0</th>\n",
       "      <td>35797</td>\n",
       "      <td>Villa Dante</td>\n",
       "      <td>153786</td>\n",
       "      <td>Dici</td>\n",
       "      <td>NaN</td>\n",
       "      <td>Cuajimalpa de Morelos</td>\n",
       "      <td>19.38283</td>\n",
       "      <td>-99.27178</td>\n",
       "      <td>Entire home/apt</td>\n",
       "      <td>4123</td>\n",
       "      <td>1</td>\n",
       "      <td>0</td>\n",
       "      <td>NaN</td>\n",
       "      <td>NaN</td>\n",
       "      <td>1</td>\n",
       "      <td>363</td>\n",
       "      <td>0</td>\n",
       "      <td>NaN</td>\n",
       "    </tr>\n",
       "    <tr>\n",
       "      <th>1</th>\n",
       "      <td>44616</td>\n",
       "      <td>CONDESA HAUS  B&amp;B</td>\n",
       "      <td>196253</td>\n",
       "      <td>Condesa Haus Bed &amp; Breakfast  CDMX</td>\n",
       "      <td>NaN</td>\n",
       "      <td>Cuauhtémoc</td>\n",
       "      <td>19.41162</td>\n",
       "      <td>-99.17794</td>\n",
       "      <td>Entire home/apt</td>\n",
       "      <td>15000</td>\n",
       "      <td>1</td>\n",
       "      <td>50</td>\n",
       "      <td>2021-08-23</td>\n",
       "      <td>0.41</td>\n",
       "      <td>10</td>\n",
       "      <td>344</td>\n",
       "      <td>1</td>\n",
       "      <td>NaN</td>\n",
       "    </tr>\n",
       "    <tr>\n",
       "      <th>2</th>\n",
       "      <td>56074</td>\n",
       "      <td>Great space in historical San Rafael</td>\n",
       "      <td>265650</td>\n",
       "      <td>Maris</td>\n",
       "      <td>NaN</td>\n",
       "      <td>Cuauhtémoc</td>\n",
       "      <td>19.43977</td>\n",
       "      <td>-99.15605</td>\n",
       "      <td>Entire home/apt</td>\n",
       "      <td>600</td>\n",
       "      <td>2</td>\n",
       "      <td>66</td>\n",
       "      <td>2021-11-21</td>\n",
       "      <td>0.50</td>\n",
       "      <td>2</td>\n",
       "      <td>364</td>\n",
       "      <td>10</td>\n",
       "      <td>NaN</td>\n",
       "    </tr>\n",
       "  </tbody>\n",
       "</table>\n",
       "</div>"
      ],
      "text/plain": [
       "      id                                  name  host_id  \\\n",
       "0  35797                           Villa Dante   153786   \n",
       "1  44616                     CONDESA HAUS  B&B   196253   \n",
       "2  56074  Great space in historical San Rafael   265650   \n",
       "\n",
       "                            host_name  neighbourhood_group  \\\n",
       "0                                Dici                  NaN   \n",
       "1  Condesa Haus Bed & Breakfast  CDMX                  NaN   \n",
       "2                               Maris                  NaN   \n",
       "\n",
       "           neighbourhood  latitude  longitude        room_type  price  \\\n",
       "0  Cuajimalpa de Morelos  19.38283  -99.27178  Entire home/apt   4123   \n",
       "1             Cuauhtémoc  19.41162  -99.17794  Entire home/apt  15000   \n",
       "2             Cuauhtémoc  19.43977  -99.15605  Entire home/apt    600   \n",
       "\n",
       "   minimum_nights  number_of_reviews last_review  reviews_per_month  \\\n",
       "0               1                  0         NaN                NaN   \n",
       "1               1                 50  2021-08-23               0.41   \n",
       "2               2                 66  2021-11-21               0.50   \n",
       "\n",
       "   calculated_host_listings_count  availability_365  number_of_reviews_ltm  \\\n",
       "0                               1               363                      0   \n",
       "1                              10               344                      1   \n",
       "2                               2               364                     10   \n",
       "\n",
       "   license  \n",
       "0      NaN  \n",
       "1      NaN  \n",
       "2      NaN  "
      ]
     },
     "execution_count": 4,
     "metadata": {},
     "output_type": "execute_result"
    }
   ],
   "source": [
    "list_df.head(3)"
   ]
  },
  {
   "cell_type": "code",
   "execution_count": 5,
   "id": "5904b8fb",
   "metadata": {},
   "outputs": [
    {
     "data": {
      "text/html": [
       "<div>\n",
       "<style scoped>\n",
       "    .dataframe tbody tr th:only-of-type {\n",
       "        vertical-align: middle;\n",
       "    }\n",
       "\n",
       "    .dataframe tbody tr th {\n",
       "        vertical-align: top;\n",
       "    }\n",
       "\n",
       "    .dataframe thead th {\n",
       "        text-align: right;\n",
       "    }\n",
       "</style>\n",
       "<table border=\"1\" class=\"dataframe\">\n",
       "  <thead>\n",
       "    <tr style=\"text-align: right;\">\n",
       "      <th></th>\n",
       "      <th>listing_id</th>\n",
       "      <th>date</th>\n",
       "      <th>available</th>\n",
       "      <th>price</th>\n",
       "      <th>adjusted_price</th>\n",
       "      <th>minimum_nights</th>\n",
       "      <th>maximum_nights</th>\n",
       "    </tr>\n",
       "  </thead>\n",
       "  <tbody>\n",
       "    <tr>\n",
       "      <th>0</th>\n",
       "      <td>2084093</td>\n",
       "      <td>2021-12-26</td>\n",
       "      <td>f</td>\n",
       "      <td>$453.00</td>\n",
       "      <td>$453.00</td>\n",
       "      <td>1.0</td>\n",
       "      <td>1125.0</td>\n",
       "    </tr>\n",
       "    <tr>\n",
       "      <th>1</th>\n",
       "      <td>35797</td>\n",
       "      <td>2021-12-26</td>\n",
       "      <td>f</td>\n",
       "      <td>$4,123.00</td>\n",
       "      <td>$4,123.00</td>\n",
       "      <td>1.0</td>\n",
       "      <td>7.0</td>\n",
       "    </tr>\n",
       "    <tr>\n",
       "      <th>2</th>\n",
       "      <td>35797</td>\n",
       "      <td>2021-12-27</td>\n",
       "      <td>f</td>\n",
       "      <td>$4,123.00</td>\n",
       "      <td>$4,123.00</td>\n",
       "      <td>1.0</td>\n",
       "      <td>7.0</td>\n",
       "    </tr>\n",
       "  </tbody>\n",
       "</table>\n",
       "</div>"
      ],
      "text/plain": [
       "   listing_id        date available      price adjusted_price  minimum_nights  \\\n",
       "0     2084093  2021-12-26         f    $453.00        $453.00             1.0   \n",
       "1       35797  2021-12-26         f  $4,123.00      $4,123.00             1.0   \n",
       "2       35797  2021-12-27         f  $4,123.00      $4,123.00             1.0   \n",
       "\n",
       "   maximum_nights  \n",
       "0          1125.0  \n",
       "1             7.0  \n",
       "2             7.0  "
      ]
     },
     "execution_count": 5,
     "metadata": {},
     "output_type": "execute_result"
    }
   ],
   "source": [
    "calendar_df.head(3)"
   ]
  },
  {
   "cell_type": "code",
   "execution_count": 7,
   "id": "846b575c",
   "metadata": {},
   "outputs": [
    {
     "data": {
      "text/html": [
       "<div>\n",
       "<style scoped>\n",
       "    .dataframe tbody tr th:only-of-type {\n",
       "        vertical-align: middle;\n",
       "    }\n",
       "\n",
       "    .dataframe tbody tr th {\n",
       "        vertical-align: top;\n",
       "    }\n",
       "\n",
       "    .dataframe thead th {\n",
       "        text-align: right;\n",
       "    }\n",
       "</style>\n",
       "<table border=\"1\" class=\"dataframe\">\n",
       "  <thead>\n",
       "    <tr style=\"text-align: right;\">\n",
       "      <th></th>\n",
       "      <th>listing_id</th>\n",
       "      <th>date</th>\n",
       "    </tr>\n",
       "  </thead>\n",
       "  <tbody>\n",
       "    <tr>\n",
       "      <th>0</th>\n",
       "      <td>44616</td>\n",
       "      <td>2011-11-09</td>\n",
       "    </tr>\n",
       "    <tr>\n",
       "      <th>1</th>\n",
       "      <td>44616</td>\n",
       "      <td>2012-08-16</td>\n",
       "    </tr>\n",
       "    <tr>\n",
       "      <th>2</th>\n",
       "      <td>44616</td>\n",
       "      <td>2012-12-28</td>\n",
       "    </tr>\n",
       "    <tr>\n",
       "      <th>3</th>\n",
       "      <td>44616</td>\n",
       "      <td>2013-01-04</td>\n",
       "    </tr>\n",
       "    <tr>\n",
       "      <th>4</th>\n",
       "      <td>44616</td>\n",
       "      <td>2013-03-19</td>\n",
       "    </tr>\n",
       "  </tbody>\n",
       "</table>\n",
       "</div>"
      ],
      "text/plain": [
       "   listing_id        date\n",
       "0       44616  2011-11-09\n",
       "1       44616  2012-08-16\n",
       "2       44616  2012-12-28\n",
       "3       44616  2013-01-04\n",
       "4       44616  2013-03-19"
      ]
     },
     "execution_count": 7,
     "metadata": {},
     "output_type": "execute_result"
    }
   ],
   "source": [
    "rev_df.head()"
   ]
  },
  {
   "cell_type": "markdown",
   "id": "fd26259c",
   "metadata": {},
   "source": [
    "we observe that the listings table has it's own information as well as some processed information from the reviews and calendar tables. At the same time, the reviews table has the date of each individual review per id."
   ]
  },
  {
   "cell_type": "code",
   "execution_count": 15,
   "id": "4a3e3781",
   "metadata": {},
   "outputs": [],
   "source": [
    " #rev_df.groupby(by=['listing_id']).count().sort_values(by='date')"
   ]
  },
  {
   "cell_type": "markdown",
   "id": "0253584d",
   "metadata": {},
   "source": [
    "### Listing table cleaning\n",
    "we can see there are some columns with null values, so i will se how much of that is usefull so we have a dataset prepared for some modelling."
   ]
  },
  {
   "cell_type": "code",
   "execution_count": 29,
   "id": "3ebcebb4",
   "metadata": {},
   "outputs": [
    {
     "name": "stdout",
     "output_type": "stream",
     "text": [
      "license                           100.000000\n",
      "neighbourhood_group               100.000000\n",
      "reviews_per_month                  20.234037\n",
      "last_review                        20.234037\n",
      "name                                0.015263\n",
      "host_name                           0.005088\n",
      "number_of_reviews                   0.000000\n",
      "number_of_reviews_ltm               0.000000\n",
      "availability_365                    0.000000\n",
      "calculated_host_listings_count      0.000000\n",
      "id                                  0.000000\n",
      "minimum_nights                      0.000000\n",
      "room_type                           0.000000\n",
      "longitude                           0.000000\n",
      "latitude                            0.000000\n",
      "neighbourhood                       0.000000\n",
      "host_id                             0.000000\n",
      "price                               0.000000\n",
      "dtype: float64\n"
     ]
    }
   ],
   "source": [
    "print((list_df.isnull().sum()/len(list_df)*100).sort_values(ascending=False))"
   ]
  },
  {
   "cell_type": "markdown",
   "id": "fc686b99",
   "metadata": {},
   "source": [
    "**MISSING DATA!!**\n",
    "\n",
    "summing all the Null ocurrences per column and dividing it by the length of the columns we can have the percentage of null values per column. It is a good practice to get rid off any column with more than 30-35% of null values (if they are not specified to mean something). So, i will drop the 'license' and 'neighbourhood_group' columns.\n",
    "\n",
    "For the rest of the columns, i will input them values or replace the null value for some place holder."
   ]
  },
  {
   "cell_type": "code",
   "execution_count": 32,
   "id": "6d47612b",
   "metadata": {},
   "outputs": [],
   "source": [
    "#dropping columns and saving the changes into the same table\n",
    "list_df.drop(columns=['license', 'neighbourhood_group'], inplace=True)"
   ]
  },
  {
   "cell_type": "code",
   "execution_count": 47,
   "id": "d585f455",
   "metadata": {},
   "outputs": [],
   "source": [
    "#replacing null values in name and host_name columns to 'no_name' value.\n",
    "list_df['name'].replace(np.nan, 'no_name', inplace=True)\n",
    "list_df['host_name'].replace(np.nan, 'no_name', inplace=True)"
   ]
  },
  {
   "cell_type": "code",
   "execution_count": null,
   "id": "11b40271",
   "metadata": {},
   "outputs": [],
   "source": [
    "#inputing values for last_review and reviews_per_month. In this case, we will input the most common date for last_review and input and average for reviews_per_month for all null values.\n",
    "sim_imp = SimpleImputer()\n",
    "\n",
    "list_df['last_review'] "
   ]
  },
  {
   "cell_type": "code",
   "execution_count": 48,
   "id": "6bbe4562",
   "metadata": {},
   "outputs": [
    {
     "name": "stdout",
     "output_type": "stream",
     "text": [
      "last_review                       20.234037\n",
      "reviews_per_month                 20.234037\n",
      "id                                 0.000000\n",
      "name                               0.000000\n",
      "host_id                            0.000000\n",
      "host_name                          0.000000\n",
      "neighbourhood                      0.000000\n",
      "latitude                           0.000000\n",
      "longitude                          0.000000\n",
      "room_type                          0.000000\n",
      "price                              0.000000\n",
      "minimum_nights                     0.000000\n",
      "number_of_reviews                  0.000000\n",
      "calculated_host_listings_count     0.000000\n",
      "availability_365                   0.000000\n",
      "number_of_reviews_ltm              0.000000\n",
      "dtype: float64\n"
     ]
    }
   ],
   "source": [
    "print((list_df.isnull().sum()/len(list_df)*100).sort_values(ascending=False))"
   ]
  },
  {
   "cell_type": "code",
   "execution_count": null,
   "id": "6a48ad03",
   "metadata": {},
   "outputs": [],
   "source": []
  }
 ],
 "metadata": {
  "kernelspec": {
   "display_name": "Python 3 (ipykernel)",
   "language": "python",
   "name": "python3"
  },
  "language_info": {
   "codemirror_mode": {
    "name": "ipython",
    "version": 3
   },
   "file_extension": ".py",
   "mimetype": "text/x-python",
   "name": "python",
   "nbconvert_exporter": "python",
   "pygments_lexer": "ipython3",
   "version": "3.8.12"
  },
  "toc": {
   "base_numbering": 1,
   "nav_menu": {},
   "number_sections": true,
   "sideBar": true,
   "skip_h1_title": false,
   "title_cell": "Table of Contents",
   "title_sidebar": "Contents",
   "toc_cell": false,
   "toc_position": {},
   "toc_section_display": true,
   "toc_window_display": false
  }
 },
 "nbformat": 4,
 "nbformat_minor": 5
}
