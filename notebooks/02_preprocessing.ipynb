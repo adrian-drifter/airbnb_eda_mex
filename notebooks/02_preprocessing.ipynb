{
 "cells": [
  {
   "cell_type": "markdown",
   "id": "2d9a12aa",
   "metadata": {},
   "source": [
    "# Preprocessing\n",
    "\n",
    "On this notebook, i will make the necessary preprocessing of the variables of interest in order to model the price based on other features."
   ]
  },
  {
   "cell_type": "markdown",
   "id": "c287d35a",
   "metadata": {},
   "source": [
    "## Packages loading and table loading"
   ]
  },
  {
   "cell_type": "code",
   "execution_count": 4,
   "id": "7b5e654e",
   "metadata": {},
   "outputs": [],
   "source": [
    "import pandas as pd\n",
    "import numpy as np\n",
    "import matplotlib.pyplot as plt\n",
    "from sklearn.preprocessing import StandardScaler, MinMaxScaler, RobustScaler\n",
    "from sklearn.impute import SimpleImputer\n",
    "from sklearn.model_selection import train_test_split, cross_validate, cross_val_score\n",
    "from sklearn.linear_model import LinearRegression\n"
   ]
  },
  {
   "cell_type": "code",
   "execution_count": 8,
   "id": "607da80e",
   "metadata": {},
   "outputs": [
    {
     "data": {
      "text/html": [
       "<div>\n",
       "<style scoped>\n",
       "    .dataframe tbody tr th:only-of-type {\n",
       "        vertical-align: middle;\n",
       "    }\n",
       "\n",
       "    .dataframe tbody tr th {\n",
       "        vertical-align: top;\n",
       "    }\n",
       "\n",
       "    .dataframe thead th {\n",
       "        text-align: right;\n",
       "    }\n",
       "</style>\n",
       "<table border=\"1\" class=\"dataframe\">\n",
       "  <thead>\n",
       "    <tr style=\"text-align: right;\">\n",
       "      <th></th>\n",
       "      <th>id</th>\n",
       "      <th>name</th>\n",
       "      <th>host_id</th>\n",
       "      <th>host_name</th>\n",
       "      <th>neighbourhood</th>\n",
       "      <th>latitude</th>\n",
       "      <th>longitude</th>\n",
       "      <th>room_type</th>\n",
       "      <th>price</th>\n",
       "      <th>minimum_nights</th>\n",
       "      <th>number_of_reviews</th>\n",
       "      <th>last_review</th>\n",
       "      <th>reviews_per_month</th>\n",
       "      <th>calculated_host_listings_count</th>\n",
       "      <th>availability_365</th>\n",
       "      <th>number_of_reviews_ltm</th>\n",
       "    </tr>\n",
       "  </thead>\n",
       "  <tbody>\n",
       "    <tr>\n",
       "      <th>0</th>\n",
       "      <td>35797</td>\n",
       "      <td>Villa Dante</td>\n",
       "      <td>153786</td>\n",
       "      <td>Dici</td>\n",
       "      <td>Cuajimalpa de Morelos</td>\n",
       "      <td>19.38283</td>\n",
       "      <td>-99.27178</td>\n",
       "      <td>Entire home/apt</td>\n",
       "      <td>4123</td>\n",
       "      <td>1</td>\n",
       "      <td>0</td>\n",
       "      <td>2021-12-19</td>\n",
       "      <td>1.45399</td>\n",
       "      <td>1</td>\n",
       "      <td>363</td>\n",
       "      <td>0</td>\n",
       "    </tr>\n",
       "    <tr>\n",
       "      <th>1</th>\n",
       "      <td>44616</td>\n",
       "      <td>CONDESA HAUS  B&amp;B</td>\n",
       "      <td>196253</td>\n",
       "      <td>Condesa Haus Bed &amp; Breakfast  CDMX</td>\n",
       "      <td>Cuauhtémoc</td>\n",
       "      <td>19.41162</td>\n",
       "      <td>-99.17794</td>\n",
       "      <td>Entire home/apt</td>\n",
       "      <td>15000</td>\n",
       "      <td>1</td>\n",
       "      <td>50</td>\n",
       "      <td>2021-08-23</td>\n",
       "      <td>0.41000</td>\n",
       "      <td>10</td>\n",
       "      <td>344</td>\n",
       "      <td>1</td>\n",
       "    </tr>\n",
       "    <tr>\n",
       "      <th>2</th>\n",
       "      <td>56074</td>\n",
       "      <td>Great space in historical San Rafael</td>\n",
       "      <td>265650</td>\n",
       "      <td>Maris</td>\n",
       "      <td>Cuauhtémoc</td>\n",
       "      <td>19.43977</td>\n",
       "      <td>-99.15605</td>\n",
       "      <td>Entire home/apt</td>\n",
       "      <td>600</td>\n",
       "      <td>2</td>\n",
       "      <td>66</td>\n",
       "      <td>2021-11-21</td>\n",
       "      <td>0.50000</td>\n",
       "      <td>2</td>\n",
       "      <td>364</td>\n",
       "      <td>10</td>\n",
       "    </tr>\n",
       "  </tbody>\n",
       "</table>\n",
       "</div>"
      ],
      "text/plain": [
       "      id                                  name  host_id  \\\n",
       "0  35797                           Villa Dante   153786   \n",
       "1  44616                     CONDESA HAUS  B&B   196253   \n",
       "2  56074  Great space in historical San Rafael   265650   \n",
       "\n",
       "                            host_name          neighbourhood  latitude  \\\n",
       "0                                Dici  Cuajimalpa de Morelos  19.38283   \n",
       "1  Condesa Haus Bed & Breakfast  CDMX             Cuauhtémoc  19.41162   \n",
       "2                               Maris             Cuauhtémoc  19.43977   \n",
       "\n",
       "   longitude        room_type  price  minimum_nights  number_of_reviews  \\\n",
       "0  -99.27178  Entire home/apt   4123               1                  0   \n",
       "1  -99.17794  Entire home/apt  15000               1                 50   \n",
       "2  -99.15605  Entire home/apt    600               2                 66   \n",
       "\n",
       "  last_review  reviews_per_month  calculated_host_listings_count  \\\n",
       "0  2021-12-19            1.45399                               1   \n",
       "1  2021-08-23            0.41000                              10   \n",
       "2  2021-11-21            0.50000                               2   \n",
       "\n",
       "   availability_365  number_of_reviews_ltm  \n",
       "0               363                      0  \n",
       "1               344                      1  \n",
       "2               364                     10  "
      ]
     },
     "execution_count": 8,
     "metadata": {},
     "output_type": "execute_result"
    }
   ],
   "source": [
    "#table loading\n",
    "\n",
    "list_df = pd.read_csv('../raw_data/mexico/clean_listing.csv')\n",
    "\n",
    "list_df.head(3)"
   ]
  },
  {
   "cell_type": "code",
   "execution_count": null,
   "id": "c9298005",
   "metadata": {},
   "outputs": [],
   "source": []
  },
  {
   "cell_type": "markdown",
   "id": "9544fc7b",
   "metadata": {},
   "source": [
    "## Scaling the data"
   ]
  },
  {
   "cell_type": "markdown",
   "id": "1352d375",
   "metadata": {},
   "source": [
    "### Looking at the data distribution\n",
    "Now, to understand the distribution of our data, and eventually which selecting the adequate scaler, i will plot an histogram for every numerical column."
   ]
  },
  {
   "cell_type": "code",
   "execution_count": 9,
   "id": "d602a093",
   "metadata": {},
   "outputs": [
    {
     "data": {
      "text/plain": [
       "Text(0.5, 1.0, 'num_rev_ltm')"
      ]
     },
     "execution_count": 9,
     "metadata": {},
     "output_type": "execute_result"
    },
    {
     "data": {
      "image/png": "[encoded data removed]",
      "text/plain": [
       "<Figure size 1152x864 with 9 Axes>"
      ]
     },
     "metadata": {
      "needs_background": "light"
     },
     "output_type": "display_data"
    }
   ],
   "source": [
    "fig, axs = plt.subplots(3,3, figsize=(16,12))\n",
    "\n",
    "axs[0,0].hist(list_df[['latitude']], bins=50)\n",
    "axs[0,0].set_title('lat')\n",
    "axs[0,1].hist(list_df[['longitude']], bins=50)\n",
    "axs[0,1].set_title('lon')\n",
    "axs[0,2].hist(list_df[['price']], bins=50)\n",
    "axs[0,2].set_title('price')\n",
    "\n",
    "axs[1,0].hist(list_df[['minimum_nights']], bins=50)\n",
    "axs[1,0].set_title('min_nights')\n",
    "axs[1,1].hist(list_df[['number_of_reviews']], bins=50)\n",
    "axs[1,1].set_title('num_rev')\n",
    "axs[1,2].hist(list_df[['reviews_per_month']], bins=50)\n",
    "axs[1,2].set_title('rev_month')\n",
    "\n",
    "axs[2,0].hist(list_df[['calculated_host_listings_count']], bins=50)\n",
    "axs[2,0].set_title('cal_host_count')\n",
    "axs[2,1].hist(list_df[['availability_365']], bins=50)\n",
    "axs[2,1].set_title('avblty_365')\n",
    "axs[2,2].hist(list_df[['number_of_reviews_ltm']], bins=50)\n",
    "axs[2,2].set_title('num_rev_ltm')"
   ]
  },
  {
   "cell_type": "markdown",
   "id": "93b88305",
   "metadata": {},
   "source": [
    "We can see that latitude, longitude, price, number of reviews and reviews per month follow what's seems to be a normal distribution. Where variables such as min nights, availability and have a different pattern. \n",
    "\n",
    "This will help to determine whether a standard scalers or a min max scaler should be used. So, i will use the standard scaler for the firs group and the minmax scaler for the second one."
   ]
  },
  {
   "cell_type": "code",
   "execution_count": null,
   "id": "cfae0034",
   "metadata": {},
   "outputs": [],
   "source": []
  },
  {
   "cell_type": "code",
   "execution_count": null,
   "id": "701f03ab",
   "metadata": {},
   "outputs": [],
   "source": []
  },
  {
   "cell_type": "code",
   "execution_count": null,
   "id": "e1df56e9",
   "metadata": {},
   "outputs": [],
   "source": []
  }
 ],
 "metadata": {
  "kernelspec": {
   "display_name": "Python 3 (ipykernel)",
   "language": "python",
   "name": "python3"
  },
  "language_info": {
   "codemirror_mode": {
    "name": "ipython",
    "version": 3
   },
   "file_extension": ".py",
   "mimetype": "text/x-python",
   "name": "python",
   "nbconvert_exporter": "python",
   "pygments_lexer": "ipython3",
   "version": "3.8.12"
  },
  "toc": {
   "base_numbering": 1,
   "nav_menu": {},
   "number_sections": true,
   "sideBar": true,
   "skip_h1_title": false,
   "title_cell": "Table of Contents",
   "title_sidebar": "Contents",
   "toc_cell": false,
   "toc_position": {},
   "toc_section_display": true,
   "toc_window_display": false
  }
 },
 "nbformat": 4,
 "nbformat_minor": 5
}
