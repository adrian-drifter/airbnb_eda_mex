{
 "cells": [
  {
   "cell_type": "markdown",
   "id": "2d9a12aa",
   "metadata": {},
   "source": [
    "# Preprocessing\n",
    "\n",
    "On this notebook, i will make the necessary preprocessing of the variables of interest in order to model the price based on other features."
   ]
  },
  {
   "cell_type": "markdown",
   "id": "c287d35a",
   "metadata": {},
   "source": [
    "## Packages loading and table loading"
   ]
  },
  {
   "cell_type": "code",
   "execution_count": 181,
   "id": "7b5e654e",
   "metadata": {},
   "outputs": [],
   "source": [
    "import pandas as pd\n",
    "import numpy as np\n",
    "import matplotlib.pyplot as plt\n",
    "import seaborn as sns\n",
    "from sklearn.preprocessing import StandardScaler, MinMaxScaler, RobustScaler, OneHotEncoder\n",
    "from sklearn.impute import SimpleImputer\n",
    "from sklearn.model_selection import train_test_split, cross_validate, cross_val_score\n",
    "from sklearn.linear_model import LinearRegression, Lasso, Ridge, ElasticNet\n",
    "from sklearn.metrics import mean_squared_error, r2_score\n",
    "from sklearn.svm import SVR\n",
    "\n",
    "from sklearn.neighbors import KNeighborsRegressor\n",
    "from sklearn.tree import DecisionTreeRegressor"
   ]
  },
  {
   "cell_type": "code",
   "execution_count": 56,
   "id": "607da80e",
   "metadata": {},
   "outputs": [
    {
     "data": {
      "text/html": [
       "<div>\n",
       "<style scoped>\n",
       "    .dataframe tbody tr th:only-of-type {\n",
       "        vertical-align: middle;\n",
       "    }\n",
       "\n",
       "    .dataframe tbody tr th {\n",
       "        vertical-align: top;\n",
       "    }\n",
       "\n",
       "    .dataframe thead th {\n",
       "        text-align: right;\n",
       "    }\n",
       "</style>\n",
       "<table border=\"1\" class=\"dataframe\">\n",
       "  <thead>\n",
       "    <tr style=\"text-align: right;\">\n",
       "      <th></th>\n",
       "      <th>id</th>\n",
       "      <th>name</th>\n",
       "      <th>host_id</th>\n",
       "      <th>host_name</th>\n",
       "      <th>neighbourhood</th>\n",
       "      <th>latitude</th>\n",
       "      <th>longitude</th>\n",
       "      <th>room_type</th>\n",
       "      <th>price</th>\n",
       "      <th>minimum_nights</th>\n",
       "      <th>number_of_reviews</th>\n",
       "      <th>last_review</th>\n",
       "      <th>reviews_per_month</th>\n",
       "      <th>calculated_host_listings_count</th>\n",
       "      <th>availability_365</th>\n",
       "      <th>number_of_reviews_ltm</th>\n",
       "    </tr>\n",
       "  </thead>\n",
       "  <tbody>\n",
       "    <tr>\n",
       "      <th>0</th>\n",
       "      <td>35797</td>\n",
       "      <td>Villa Dante</td>\n",
       "      <td>153786</td>\n",
       "      <td>Dici</td>\n",
       "      <td>Cuajimalpa de Morelos</td>\n",
       "      <td>19.38283</td>\n",
       "      <td>-99.27178</td>\n",
       "      <td>Entire home/apt</td>\n",
       "      <td>4123</td>\n",
       "      <td>1</td>\n",
       "      <td>0</td>\n",
       "      <td>2021-12-19</td>\n",
       "      <td>1.45399</td>\n",
       "      <td>1</td>\n",
       "      <td>363</td>\n",
       "      <td>0</td>\n",
       "    </tr>\n",
       "    <tr>\n",
       "      <th>1</th>\n",
       "      <td>44616</td>\n",
       "      <td>CONDESA HAUS  B&amp;B</td>\n",
       "      <td>196253</td>\n",
       "      <td>Condesa Haus Bed &amp; Breakfast  CDMX</td>\n",
       "      <td>Cuauhtémoc</td>\n",
       "      <td>19.41162</td>\n",
       "      <td>-99.17794</td>\n",
       "      <td>Entire home/apt</td>\n",
       "      <td>15000</td>\n",
       "      <td>1</td>\n",
       "      <td>50</td>\n",
       "      <td>2021-08-23</td>\n",
       "      <td>0.41000</td>\n",
       "      <td>10</td>\n",
       "      <td>344</td>\n",
       "      <td>1</td>\n",
       "    </tr>\n",
       "    <tr>\n",
       "      <th>2</th>\n",
       "      <td>56074</td>\n",
       "      <td>Great space in historical San Rafael</td>\n",
       "      <td>265650</td>\n",
       "      <td>Maris</td>\n",
       "      <td>Cuauhtémoc</td>\n",
       "      <td>19.43977</td>\n",
       "      <td>-99.15605</td>\n",
       "      <td>Entire home/apt</td>\n",
       "      <td>600</td>\n",
       "      <td>2</td>\n",
       "      <td>66</td>\n",
       "      <td>2021-11-21</td>\n",
       "      <td>0.50000</td>\n",
       "      <td>2</td>\n",
       "      <td>364</td>\n",
       "      <td>10</td>\n",
       "    </tr>\n",
       "  </tbody>\n",
       "</table>\n",
       "</div>"
      ],
      "text/plain": [
       "      id                                  name  host_id  \\\n",
       "0  35797                           Villa Dante   153786   \n",
       "1  44616                     CONDESA HAUS  B&B   196253   \n",
       "2  56074  Great space in historical San Rafael   265650   \n",
       "\n",
       "                            host_name          neighbourhood  latitude  \\\n",
       "0                                Dici  Cuajimalpa de Morelos  19.38283   \n",
       "1  Condesa Haus Bed & Breakfast  CDMX             Cuauhtémoc  19.41162   \n",
       "2                               Maris             Cuauhtémoc  19.43977   \n",
       "\n",
       "   longitude        room_type  price  minimum_nights  number_of_reviews  \\\n",
       "0  -99.27178  Entire home/apt   4123               1                  0   \n",
       "1  -99.17794  Entire home/apt  15000               1                 50   \n",
       "2  -99.15605  Entire home/apt    600               2                 66   \n",
       "\n",
       "  last_review  reviews_per_month  calculated_host_listings_count  \\\n",
       "0  2021-12-19            1.45399                               1   \n",
       "1  2021-08-23            0.41000                              10   \n",
       "2  2021-11-21            0.50000                               2   \n",
       "\n",
       "   availability_365  number_of_reviews_ltm  \n",
       "0               363                      0  \n",
       "1               344                      1  \n",
       "2               364                     10  "
      ]
     },
     "execution_count": 56,
     "metadata": {},
     "output_type": "execute_result"
    }
   ],
   "source": [
    "#table loading\n",
    "\n",
    "list_df = pd.read_csv('../raw_data/mexico/clean_listing.csv')\n",
    "\n",
    "list_df.head(3)"
   ]
  },
  {
   "cell_type": "markdown",
   "id": "9544fc7b",
   "metadata": {},
   "source": [
    "## Scaling the data"
   ]
  },
  {
   "cell_type": "markdown",
   "id": "1352d375",
   "metadata": {},
   "source": [
    "### Looking at the data distribution\n",
    "Now, to understand the distribution of our data, and eventually which selecting the adequate scaler, i will plot an histogram for every numerical column."
   ]
  },
  {
   "cell_type": "code",
   "execution_count": 57,
   "id": "d602a093",
   "metadata": {},
   "outputs": [
    {
     "data": {
      "text/plain": [
       "Text(0.5, 1.0, 'num_rev_ltm')"
      ]
     },
     "execution_count": 57,
     "metadata": {},
     "output_type": "execute_result"
    },
    {
     "data": {
      "image/png": "[encoded data removed]",
      "text/plain": [
       "<Figure size 1152x864 with 9 Axes>"
      ]
     },
     "metadata": {
      "needs_background": "light"
     },
     "output_type": "display_data"
    }
   ],
   "source": [
    "fig, axs = plt.subplots(3,3, figsize=(16,12))\n",
    "\n",
    "axs[0,0].hist(list_df[['latitude']], bins=50)\n",
    "axs[0,0].set_title('lat')\n",
    "axs[0,1].hist(list_df[['longitude']], bins=50)\n",
    "axs[0,1].set_title('lon')\n",
    "axs[0,2].hist(list_df[['price']], bins=50)\n",
    "axs[0,2].set_title('price')\n",
    "\n",
    "axs[1,0].hist(list_df[['minimum_nights']], bins=50)\n",
    "axs[1,0].set_title('min_nights')\n",
    "axs[1,1].hist(list_df[['number_of_reviews']], bins=50)\n",
    "axs[1,1].set_title('num_rev')\n",
    "axs[1,2].hist(list_df[['reviews_per_month']], bins=50)\n",
    "axs[1,2].set_title('rev_month')\n",
    "\n",
    "axs[2,0].hist(list_df[['calculated_host_listings_count']], bins=50)\n",
    "axs[2,0].set_title('cal_host_count')\n",
    "axs[2,1].hist(list_df[['availability_365']], bins=50)\n",
    "axs[2,1].set_title('avblty_365')\n",
    "axs[2,2].hist(list_df[['number_of_reviews_ltm']], bins=50)\n",
    "axs[2,2].set_title('num_rev_ltm')"
   ]
  },
  {
   "cell_type": "markdown",
   "id": "93b88305",
   "metadata": {},
   "source": [
    "We can see that latitude, longitude, price, number of reviews and reviews per month follow what's seems to be a normal distribution. Where variables such as min nights, availability and have a different pattern. \n",
    "\n",
    "This will help to determine whether a standard scalers or a min max scaler, robust scaler should be used."
   ]
  },
  {
   "cell_type": "markdown",
   "id": "f7a94ccb-9148-4517-8b0a-5119deb1708e",
   "metadata": {},
   "source": [
    "First i will copy the dataframe so i can modify it confindently"
   ]
  },
  {
   "cell_type": "code",
   "execution_count": 159,
   "id": "be209656-75e2-4ae3-940a-61d7e18c2a3b",
   "metadata": {},
   "outputs": [],
   "source": [
    "#i select the variables that are less redundant and might be importat for predicting the price\n",
    "proc_df = list_df.drop(columns=['id','host_id','host_name','name','last_review','number_of_reviews_ltm'])"
   ]
  },
  {
   "cell_type": "code",
   "execution_count": 160,
   "id": "59b326f3-66a3-4347-8f24-60c032e43417",
   "metadata": {},
   "outputs": [
    {
     "data": {
      "text/html": [
       "<div>\n",
       "<style scoped>\n",
       "    .dataframe tbody tr th:only-of-type {\n",
       "        vertical-align: middle;\n",
       "    }\n",
       "\n",
       "    .dataframe tbody tr th {\n",
       "        vertical-align: top;\n",
       "    }\n",
       "\n",
       "    .dataframe thead th {\n",
       "        text-align: right;\n",
       "    }\n",
       "</style>\n",
       "<table border=\"1\" class=\"dataframe\">\n",
       "  <thead>\n",
       "    <tr style=\"text-align: right;\">\n",
       "      <th></th>\n",
       "      <th>neighbourhood</th>\n",
       "      <th>latitude</th>\n",
       "      <th>longitude</th>\n",
       "      <th>room_type</th>\n",
       "      <th>price</th>\n",
       "      <th>minimum_nights</th>\n",
       "      <th>number_of_reviews</th>\n",
       "      <th>reviews_per_month</th>\n",
       "      <th>calculated_host_listings_count</th>\n",
       "      <th>availability_365</th>\n",
       "    </tr>\n",
       "  </thead>\n",
       "  <tbody>\n",
       "    <tr>\n",
       "      <th>0</th>\n",
       "      <td>Cuajimalpa de Morelos</td>\n",
       "      <td>19.38283</td>\n",
       "      <td>-99.27178</td>\n",
       "      <td>Entire home/apt</td>\n",
       "      <td>4123</td>\n",
       "      <td>1</td>\n",
       "      <td>0</td>\n",
       "      <td>1.45399</td>\n",
       "      <td>1</td>\n",
       "      <td>363</td>\n",
       "    </tr>\n",
       "    <tr>\n",
       "      <th>1</th>\n",
       "      <td>Cuauhtémoc</td>\n",
       "      <td>19.41162</td>\n",
       "      <td>-99.17794</td>\n",
       "      <td>Entire home/apt</td>\n",
       "      <td>15000</td>\n",
       "      <td>1</td>\n",
       "      <td>50</td>\n",
       "      <td>0.41000</td>\n",
       "      <td>10</td>\n",
       "      <td>344</td>\n",
       "    </tr>\n",
       "    <tr>\n",
       "      <th>2</th>\n",
       "      <td>Cuauhtémoc</td>\n",
       "      <td>19.43977</td>\n",
       "      <td>-99.15605</td>\n",
       "      <td>Entire home/apt</td>\n",
       "      <td>600</td>\n",
       "      <td>2</td>\n",
       "      <td>66</td>\n",
       "      <td>0.50000</td>\n",
       "      <td>2</td>\n",
       "      <td>364</td>\n",
       "    </tr>\n",
       "  </tbody>\n",
       "</table>\n",
       "</div>"
      ],
      "text/plain": [
       "           neighbourhood  latitude  longitude        room_type  price  \\\n",
       "0  Cuajimalpa de Morelos  19.38283  -99.27178  Entire home/apt   4123   \n",
       "1             Cuauhtémoc  19.41162  -99.17794  Entire home/apt  15000   \n",
       "2             Cuauhtémoc  19.43977  -99.15605  Entire home/apt    600   \n",
       "\n",
       "   minimum_nights  number_of_reviews  reviews_per_month  \\\n",
       "0               1                  0            1.45399   \n",
       "1               1                 50            0.41000   \n",
       "2               2                 66            0.50000   \n",
       "\n",
       "   calculated_host_listings_count  availability_365  \n",
       "0                               1               363  \n",
       "1                              10               344  \n",
       "2                               2               364  "
      ]
     },
     "execution_count": 160,
     "metadata": {},
     "output_type": "execute_result"
    }
   ],
   "source": [
    "proc_df.head(3)"
   ]
  },
  {
   "cell_type": "code",
   "execution_count": 161,
   "id": "cfae0034",
   "metadata": {},
   "outputs": [],
   "source": [
    "std_scaler = StandardScaler()\n",
    "mm_scaler = MinMaxScaler()\n",
    "r_scaler = RobustScaler()\n",
    "\n",
    "#For latitude, longitude and price i will use standardscaler\n",
    "\n",
    "proc_df['latitude'] = std_scaler.fit_transform(proc_df[['latitude']])\n",
    "proc_df['longitude'] = std_scaler.fit_transform(proc_df[['longitude']])\n",
    "proc_df['price'] = std_scaler.fit_transform(proc_df[['price']])\n",
    "\n",
    "#For minimum nights and number of reviews\n",
    "\n",
    "proc_df['minimum_nights'] = mm_scaler.fit_transform(proc_df[['minimum_nights']])\n",
    "proc_df['number_of_reviews'] = mm_scaler.fit_transform(proc_df[['number_of_reviews']])\n",
    "proc_df['reviews_per_month'] = mm_scaler.fit_transform(proc_df[['reviews_per_month']])\n",
    "proc_df['calculated_host_listings_count'] = mm_scaler.fit_transform(proc_df[['calculated_host_listings_count']])\n",
    "proc_df['availability_365'] = mm_scaler.fit_transform(proc_df[['availability_365']])\n",
    "#proc_df['number_of_reviews_ltm'] = mm_scaler.fit_transform(proc_df[['number_of_reviews_ltm']])\n",
    "\n",
    "\n",
    "\n"
   ]
  },
  {
   "cell_type": "code",
   "execution_count": 162,
   "id": "e1df56e9",
   "metadata": {},
   "outputs": [
    {
     "data": {
      "text/html": [
       "<div>\n",
       "<style scoped>\n",
       "    .dataframe tbody tr th:only-of-type {\n",
       "        vertical-align: middle;\n",
       "    }\n",
       "\n",
       "    .dataframe tbody tr th {\n",
       "        vertical-align: top;\n",
       "    }\n",
       "\n",
       "    .dataframe thead th {\n",
       "        text-align: right;\n",
       "    }\n",
       "</style>\n",
       "<table border=\"1\" class=\"dataframe\">\n",
       "  <thead>\n",
       "    <tr style=\"text-align: right;\">\n",
       "      <th></th>\n",
       "      <th>neighbourhood</th>\n",
       "      <th>latitude</th>\n",
       "      <th>longitude</th>\n",
       "      <th>room_type</th>\n",
       "      <th>price</th>\n",
       "      <th>minimum_nights</th>\n",
       "      <th>number_of_reviews</th>\n",
       "      <th>reviews_per_month</th>\n",
       "      <th>calculated_host_listings_count</th>\n",
       "      <th>availability_365</th>\n",
       "    </tr>\n",
       "  </thead>\n",
       "  <tbody>\n",
       "    <tr>\n",
       "      <th>0</th>\n",
       "      <td>Cuajimalpa de Morelos</td>\n",
       "      <td>-0.359251</td>\n",
       "      <td>-2.901123</td>\n",
       "      <td>Entire home/apt</td>\n",
       "      <td>2.089663</td>\n",
       "      <td>0.000000</td>\n",
       "      <td>0.000000</td>\n",
       "      <td>0.024751</td>\n",
       "      <td>0.000000</td>\n",
       "      <td>0.994521</td>\n",
       "    </tr>\n",
       "    <tr>\n",
       "      <th>1</th>\n",
       "      <td>Cuauhtémoc</td>\n",
       "      <td>0.265388</td>\n",
       "      <td>-0.276450</td>\n",
       "      <td>Entire home/apt</td>\n",
       "      <td>9.937050</td>\n",
       "      <td>0.000000</td>\n",
       "      <td>0.088339</td>\n",
       "      <td>0.006856</td>\n",
       "      <td>0.064748</td>\n",
       "      <td>0.942466</td>\n",
       "    </tr>\n",
       "    <tr>\n",
       "      <th>2</th>\n",
       "      <td>Cuauhtémoc</td>\n",
       "      <td>0.876142</td>\n",
       "      <td>0.335805</td>\n",
       "      <td>Entire home/apt</td>\n",
       "      <td>-0.452062</td>\n",
       "      <td>0.016667</td>\n",
       "      <td>0.116608</td>\n",
       "      <td>0.008399</td>\n",
       "      <td>0.007194</td>\n",
       "      <td>0.997260</td>\n",
       "    </tr>\n",
       "    <tr>\n",
       "      <th>3</th>\n",
       "      <td>Cuauhtémoc</td>\n",
       "      <td>0.248248</td>\n",
       "      <td>-0.350011</td>\n",
       "      <td>Private room</td>\n",
       "      <td>0.007512</td>\n",
       "      <td>0.016667</td>\n",
       "      <td>0.093640</td>\n",
       "      <td>0.017827</td>\n",
       "      <td>0.000000</td>\n",
       "      <td>0.487671</td>\n",
       "    </tr>\n",
       "    <tr>\n",
       "      <th>4</th>\n",
       "      <td>Cuauhtémoc</td>\n",
       "      <td>0.263219</td>\n",
       "      <td>-0.014375</td>\n",
       "      <td>Entire home/apt</td>\n",
       "      <td>0.528410</td>\n",
       "      <td>0.050000</td>\n",
       "      <td>0.068905</td>\n",
       "      <td>0.005314</td>\n",
       "      <td>0.007194</td>\n",
       "      <td>0.909589</td>\n",
       "    </tr>\n",
       "  </tbody>\n",
       "</table>\n",
       "</div>"
      ],
      "text/plain": [
       "           neighbourhood  latitude  longitude        room_type     price  \\\n",
       "0  Cuajimalpa de Morelos -0.359251  -2.901123  Entire home/apt  2.089663   \n",
       "1             Cuauhtémoc  0.265388  -0.276450  Entire home/apt  9.937050   \n",
       "2             Cuauhtémoc  0.876142   0.335805  Entire home/apt -0.452062   \n",
       "3             Cuauhtémoc  0.248248  -0.350011     Private room  0.007512   \n",
       "4             Cuauhtémoc  0.263219  -0.014375  Entire home/apt  0.528410   \n",
       "\n",
       "   minimum_nights  number_of_reviews  reviews_per_month  \\\n",
       "0        0.000000           0.000000           0.024751   \n",
       "1        0.000000           0.088339           0.006856   \n",
       "2        0.016667           0.116608           0.008399   \n",
       "3        0.016667           0.093640           0.017827   \n",
       "4        0.050000           0.068905           0.005314   \n",
       "\n",
       "   calculated_host_listings_count  availability_365  \n",
       "0                        0.000000          0.994521  \n",
       "1                        0.064748          0.942466  \n",
       "2                        0.007194          0.997260  \n",
       "3                        0.000000          0.487671  \n",
       "4                        0.007194          0.909589  "
      ]
     },
     "execution_count": 162,
     "metadata": {},
     "output_type": "execute_result"
    }
   ],
   "source": [
    "proc_df.head()"
   ]
  },
  {
   "cell_type": "markdown",
   "id": "2036ebf8-92a1-4db3-91a6-b70806975304",
   "metadata": {},
   "source": [
    "## Encoding the categorical features"
   ]
  },
  {
   "cell_type": "code",
   "execution_count": 163,
   "id": "50062c08-9a00-4bc9-b401-43e4f43cc714",
   "metadata": {},
   "outputs": [],
   "source": [
    "encoder = OneHotEncoder(sparse=False, handle_unknown='ignore')\n",
    "\n",
    "proc_df['neighbourhood'] = encoder.fit_transform(proc_df[['neighbourhood']])\n",
    "proc_df['room_type'] = encoder.fit_transform(proc_df[['room_type']])"
   ]
  },
  {
   "cell_type": "code",
   "execution_count": 164,
   "id": "57e07d4e-f43a-408d-8598-2928784ab630",
   "metadata": {},
   "outputs": [
    {
     "data": {
      "text/html": [
       "<div>\n",
       "<style scoped>\n",
       "    .dataframe tbody tr th:only-of-type {\n",
       "        vertical-align: middle;\n",
       "    }\n",
       "\n",
       "    .dataframe tbody tr th {\n",
       "        vertical-align: top;\n",
       "    }\n",
       "\n",
       "    .dataframe thead th {\n",
       "        text-align: right;\n",
       "    }\n",
       "</style>\n",
       "<table border=\"1\" class=\"dataframe\">\n",
       "  <thead>\n",
       "    <tr style=\"text-align: right;\">\n",
       "      <th></th>\n",
       "      <th>neighbourhood</th>\n",
       "      <th>latitude</th>\n",
       "      <th>longitude</th>\n",
       "      <th>room_type</th>\n",
       "      <th>price</th>\n",
       "      <th>minimum_nights</th>\n",
       "      <th>number_of_reviews</th>\n",
       "      <th>reviews_per_month</th>\n",
       "      <th>calculated_host_listings_count</th>\n",
       "      <th>availability_365</th>\n",
       "    </tr>\n",
       "  </thead>\n",
       "  <tbody>\n",
       "    <tr>\n",
       "      <th>0</th>\n",
       "      <td>0.0</td>\n",
       "      <td>-0.359251</td>\n",
       "      <td>-2.901123</td>\n",
       "      <td>1.0</td>\n",
       "      <td>2.089663</td>\n",
       "      <td>0.000000</td>\n",
       "      <td>0.000000</td>\n",
       "      <td>0.024751</td>\n",
       "      <td>0.000000</td>\n",
       "      <td>0.994521</td>\n",
       "    </tr>\n",
       "    <tr>\n",
       "      <th>1</th>\n",
       "      <td>0.0</td>\n",
       "      <td>0.265388</td>\n",
       "      <td>-0.276450</td>\n",
       "      <td>1.0</td>\n",
       "      <td>9.937050</td>\n",
       "      <td>0.000000</td>\n",
       "      <td>0.088339</td>\n",
       "      <td>0.006856</td>\n",
       "      <td>0.064748</td>\n",
       "      <td>0.942466</td>\n",
       "    </tr>\n",
       "    <tr>\n",
       "      <th>2</th>\n",
       "      <td>0.0</td>\n",
       "      <td>0.876142</td>\n",
       "      <td>0.335805</td>\n",
       "      <td>1.0</td>\n",
       "      <td>-0.452062</td>\n",
       "      <td>0.016667</td>\n",
       "      <td>0.116608</td>\n",
       "      <td>0.008399</td>\n",
       "      <td>0.007194</td>\n",
       "      <td>0.997260</td>\n",
       "    </tr>\n",
       "  </tbody>\n",
       "</table>\n",
       "</div>"
      ],
      "text/plain": [
       "   neighbourhood  latitude  longitude  room_type     price  minimum_nights  \\\n",
       "0            0.0 -0.359251  -2.901123        1.0  2.089663        0.000000   \n",
       "1            0.0  0.265388  -0.276450        1.0  9.937050        0.000000   \n",
       "2            0.0  0.876142   0.335805        1.0 -0.452062        0.016667   \n",
       "\n",
       "   number_of_reviews  reviews_per_month  calculated_host_listings_count  \\\n",
       "0           0.000000           0.024751                        0.000000   \n",
       "1           0.088339           0.006856                        0.064748   \n",
       "2           0.116608           0.008399                        0.007194   \n",
       "\n",
       "   availability_365  \n",
       "0          0.994521  \n",
       "1          0.942466  \n",
       "2          0.997260  "
      ]
     },
     "execution_count": 164,
     "metadata": {},
     "output_type": "execute_result"
    }
   ],
   "source": [
    "proc_df.head(3)"
   ]
  },
  {
   "cell_type": "markdown",
   "id": "7103555b-ba71-4a50-8e3b-26a15c3cc5df",
   "metadata": {},
   "source": [
    "Now the dable is preprocessed, the id and host id fields are not necessary anymore. Identification fields are not necessary in order to perform the models."
   ]
  },
  {
   "cell_type": "code",
   "execution_count": 165,
   "id": "700f16f1-7e94-4d1d-a532-9ed96589e289",
   "metadata": {},
   "outputs": [
    {
     "data": {
      "text/plain": [
       "<AxesSubplot:>"
      ]
     },
     "execution_count": 165,
     "metadata": {},
     "output_type": "execute_result"
    },
    {
     "data": {
      "image/png": "[encoded data removed]",
      "text/plain": [
       "<Figure size 432x288 with 2 Axes>"
      ]
     },
     "metadata": {
      "needs_background": "light"
     },
     "output_type": "display_data"
    }
   ],
   "source": [
    "#I will check again for some correlations with the processed dataframe\n",
    "\n",
    "corr = proc_df.corr()\n",
    "\n",
    "sns.heatmap(corr, \n",
    "        xticklabels=corr.columns,\n",
    "        yticklabels=corr.columns,\n",
    "        cmap= \"YlGnBu\")"
   ]
  },
  {
   "cell_type": "code",
   "execution_count": 166,
   "id": "f6f93cd8-c863-42f0-9d74-5a3d6960bc16",
   "metadata": {},
   "outputs": [
    {
     "data": {
      "text/html": [
       "<div>\n",
       "<style scoped>\n",
       "    .dataframe tbody tr th:only-of-type {\n",
       "        vertical-align: middle;\n",
       "    }\n",
       "\n",
       "    .dataframe tbody tr th {\n",
       "        vertical-align: top;\n",
       "    }\n",
       "\n",
       "    .dataframe thead th {\n",
       "        text-align: right;\n",
       "    }\n",
       "</style>\n",
       "<table border=\"1\" class=\"dataframe\">\n",
       "  <thead>\n",
       "    <tr style=\"text-align: right;\">\n",
       "      <th></th>\n",
       "      <th>feature_1</th>\n",
       "      <th>feature_2</th>\n",
       "      <th>correlation</th>\n",
       "    </tr>\n",
       "  </thead>\n",
       "  <tbody>\n",
       "    <tr>\n",
       "      <th>67</th>\n",
       "      <td>number_of_reviews</td>\n",
       "      <td>reviews_per_month</td>\n",
       "      <td>0.552470</td>\n",
       "    </tr>\n",
       "    <tr>\n",
       "      <th>76</th>\n",
       "      <td>reviews_per_month</td>\n",
       "      <td>number_of_reviews</td>\n",
       "      <td>0.552470</td>\n",
       "    </tr>\n",
       "    <tr>\n",
       "      <th>43</th>\n",
       "      <td>price</td>\n",
       "      <td>room_type</td>\n",
       "      <td>0.293621</td>\n",
       "    </tr>\n",
       "    <tr>\n",
       "      <th>34</th>\n",
       "      <td>room_type</td>\n",
       "      <td>price</td>\n",
       "      <td>0.293621</td>\n",
       "    </tr>\n",
       "    <tr>\n",
       "      <th>63</th>\n",
       "      <td>number_of_reviews</td>\n",
       "      <td>room_type</td>\n",
       "      <td>0.188948</td>\n",
       "    </tr>\n",
       "    <tr>\n",
       "      <th>36</th>\n",
       "      <td>room_type</td>\n",
       "      <td>number_of_reviews</td>\n",
       "      <td>0.188948</td>\n",
       "    </tr>\n",
       "    <tr>\n",
       "      <th>10</th>\n",
       "      <td>latitude</td>\n",
       "      <td>neighbourhood</td>\n",
       "      <td>0.175541</td>\n",
       "    </tr>\n",
       "    <tr>\n",
       "      <th>1</th>\n",
       "      <td>neighbourhood</td>\n",
       "      <td>latitude</td>\n",
       "      <td>0.175541</td>\n",
       "    </tr>\n",
       "    <tr>\n",
       "      <th>84</th>\n",
       "      <td>calculated_host_listings_count</td>\n",
       "      <td>price</td>\n",
       "      <td>0.170651</td>\n",
       "    </tr>\n",
       "    <tr>\n",
       "      <th>48</th>\n",
       "      <td>price</td>\n",
       "      <td>calculated_host_listings_count</td>\n",
       "      <td>0.170651</td>\n",
       "    </tr>\n",
       "  </tbody>\n",
       "</table>\n",
       "</div>"
      ],
      "text/plain": [
       "                         feature_1                       feature_2  \\\n",
       "67               number_of_reviews               reviews_per_month   \n",
       "76               reviews_per_month               number_of_reviews   \n",
       "43                           price                       room_type   \n",
       "34                       room_type                           price   \n",
       "63               number_of_reviews                       room_type   \n",
       "36                       room_type               number_of_reviews   \n",
       "10                        latitude                   neighbourhood   \n",
       "1                    neighbourhood                        latitude   \n",
       "84  calculated_host_listings_count                           price   \n",
       "48                           price  calculated_host_listings_count   \n",
       "\n",
       "    correlation  \n",
       "67     0.552470  \n",
       "76     0.552470  \n",
       "43     0.293621  \n",
       "34     0.293621  \n",
       "63     0.188948  \n",
       "36     0.188948  \n",
       "10     0.175541  \n",
       "1      0.175541  \n",
       "84     0.170651  \n",
       "48     0.170651  "
      ]
     },
     "execution_count": 166,
     "metadata": {},
     "output_type": "execute_result"
    }
   ],
   "source": [
    "corr_df = corr.unstack().reset_index() # Unstack correlation matrix \n",
    "corr_df.columns = ['feature_1','feature_2', 'correlation'] # rename columns\n",
    "corr_df.sort_values(by=\"correlation\",ascending=False, inplace=True) # sort by correlation\n",
    "corr_df = corr_df[corr_df['feature_1'] != corr_df['feature_2']] # Remove self correlation\n",
    "corr_df.head(10)"
   ]
  },
  {
   "cell_type": "markdown",
   "id": "de235702-862b-45df-9ebe-fc579ba66757",
   "metadata": {},
   "source": [
    "We can observe more clearly now that all variables are poorly correlated.\n",
    "This is good in order to avoid data leakage, but a correlation so weak might result in a poor prediction. It will be corroborated in the model result."
   ]
  },
  {
   "cell_type": "markdown",
   "id": "21cabeac-9394-4d54-b2a4-ecd9d25d1b6e",
   "metadata": {},
   "source": [
    "# Modeling\n",
    "\n",
    "Here i will declare the X and y values in order to make some prediction models on price"
   ]
  },
  {
   "cell_type": "markdown",
   "id": "49e133f8-042f-4bdd-8d3d-7f4e01138186",
   "metadata": {},
   "source": [
    "## X and y definition"
   ]
  },
  {
   "cell_type": "code",
   "execution_count": 175,
   "id": "5d9476fb-75a7-4df2-9203-4a1398affe8d",
   "metadata": {},
   "outputs": [],
   "source": [
    "y = proc_df['price']\n",
    "\n",
    "X = proc_df.filter(items=['room_type','latitude','longitude', 'number_of_reviews','reviews_per_month','availability_365','neighbourhood','calculated_host_listings_count'])"
   ]
  },
  {
   "cell_type": "code",
   "execution_count": 176,
   "id": "63365b6b-97f2-4de9-bec1-f7880ed6735c",
   "metadata": {},
   "outputs": [],
   "source": [
    "# train test splitting\n",
    "\n",
    "X_train, X_test, y_train, y_test = train_test_split(X,y, test_size=0.30, random_state=1)"
   ]
  },
  {
   "cell_type": "code",
   "execution_count": 239,
   "id": "476a53ea-b13b-4b92-a61d-0e91135438f6",
   "metadata": {},
   "outputs": [
    {
     "data": {
      "text/plain": [
       "0.22345237301455775"
      ]
     },
     "execution_count": 239,
     "metadata": {},
     "output_type": "execute_result"
    }
   ],
   "source": [
    "lin_model = LinearRegression()\n",
    "las_model = Lasso()\n",
    "r_model = Ridge(alpha=0.5)\n",
    "en_model = ElasticNet()\n",
    "svr_model = SVR(kernel='poly')\n",
    "kn_model= KNeighborsRegressor(n_neighbors=25)\n",
    "dt_model = DecisionTreeRegressor()\n",
    "\n",
    "cv_results = cross_validate(kn_model, X_train, y_train, cv=10, scoring=['r2'])\n",
    "\n",
    "cv_results['test_r2'].mean()"
   ]
  },
  {
   "cell_type": "code",
   "execution_count": 193,
   "id": "0ea45679-107a-4529-b8f9-b8714818ce5f",
   "metadata": {},
   "outputs": [
    {
     "data": {
      "text/plain": [
       "KNeighborsRegressor(n_neighbors=25)"
      ]
     },
     "execution_count": 193,
     "metadata": {},
     "output_type": "execute_result"
    }
   ],
   "source": [
    "kn_model.fit(X_train, y_train)"
   ]
  },
  {
   "cell_type": "code",
   "execution_count": 194,
   "id": "44a7692a-b03b-49cc-8246-724bc027ea1b",
   "metadata": {},
   "outputs": [],
   "source": [
    "y_pred = kn_model.predict(X_test)"
   ]
  },
  {
   "cell_type": "code",
   "execution_count": 196,
   "id": "d843c751-fed9-4ad2-bc3a-1b084569576a",
   "metadata": {},
   "outputs": [
    {
     "name": "stdout",
     "output_type": "stream",
     "text": [
      "0.6998160189320416\n",
      "0.2430436411766872\n"
     ]
    }
   ],
   "source": [
    "kn_model.fit(X_train, y_train)\n",
    "y_pred = kn_model.predict(X_test)\n",
    "\n",
    "\n",
    "#print(kn_model.coef_)\n",
    "print(mean_squared_error(y_test, y_pred))\n",
    "print(r2_score(y_test, y_pred))"
   ]
  },
  {
   "cell_type": "markdown",
   "id": "aa1272c6-069e-465b-b461-7c08b5d210c1",
   "metadata": {},
   "source": [
    "**FIRST CONCLUSIONS**\n",
    "* Even if in this document it only appears to be one round of modeling, in reality several combinations have been done. So far, all regression models failed to achieve a good enough performance, with the KN regressor being the least bad model with an r2 score of 0.24\n",
    "* I will perform a gridsearch or randomsearch in order to find the best combination of hyperparameters and see if i can achieve a significantly better result"
   ]
  },
  {
   "cell_type": "markdown",
   "id": "53eb97a6-f374-4e9c-ad59-0439700bc128",
   "metadata": {},
   "source": [
    "## Making the preprocessing pipelines\n",
    "\n",
    "In order to perform the grid search, it is necessary to have automatized the preprocessing with a pipeline, which i will do next."
   ]
  },
  {
   "cell_type": "code",
   "execution_count": 212,
   "id": "55f62a32-3f42-4a7b-9034-50a92c095f46",
   "metadata": {},
   "outputs": [],
   "source": [
    "from sklearn.pipeline import Pipeline\n",
    "\n",
    "pipe = Pipeline([\n",
    "    ('imputer', SimpleImputer()),\n",
    "    ('std_scaler', StandardScaler())\n",
    "])"
   ]
  },
  {
   "cell_type": "code",
   "execution_count": 258,
   "id": "74e76821-86d3-43f1-9dc1-de9322d90cf8",
   "metadata": {},
   "outputs": [],
   "source": [
    "from sklearn.compose import ColumnTransformer\n",
    "\n",
    "num_trans = Pipeline([\n",
    "    ('imputer', SimpleImputer(strategy='mean')),\n",
    "    ('scaler', StandardScaler())\n",
    "])\n",
    "\n",
    "cat_trans = Pipeline([\n",
    "    ('imputer', SimpleImputer(strategy='most_frequent')),\n",
    "    ('encoder', OneHotEncoder(handle_unknown='ignore'))\n",
    "])\n",
    "\n",
    "preprocessor = ColumnTransformer([\n",
    "    ('num_trans', num_trans, ['latitude', 'longitude', 'minimum_nights', 'number_of_reviews', 'reviews_per_month', 'calculated_host_listings_count', 'availability_365']),\n",
    "    ('cat_trans', cat_trans, ['neighbourhood', 'room_type'])\n",
    "])"
   ]
  },
  {
   "cell_type": "code",
   "execution_count": 259,
   "id": "b4bfd1bd-2b8e-46c5-92ea-a96d3930a7b4",
   "metadata": {},
   "outputs": [
    {
     "data": {
      "text/html": [
       "<div>\n",
       "<style scoped>\n",
       "    .dataframe tbody tr th:only-of-type {\n",
       "        vertical-align: middle;\n",
       "    }\n",
       "\n",
       "    .dataframe tbody tr th {\n",
       "        vertical-align: top;\n",
       "    }\n",
       "\n",
       "    .dataframe thead th {\n",
       "        text-align: right;\n",
       "    }\n",
       "</style>\n",
       "<table border=\"1\" class=\"dataframe\">\n",
       "  <thead>\n",
       "    <tr style=\"text-align: right;\">\n",
       "      <th></th>\n",
       "      <th>id</th>\n",
       "      <th>name</th>\n",
       "      <th>host_id</th>\n",
       "      <th>host_name</th>\n",
       "      <th>neighbourhood</th>\n",
       "      <th>latitude</th>\n",
       "      <th>longitude</th>\n",
       "      <th>room_type</th>\n",
       "      <th>price</th>\n",
       "      <th>minimum_nights</th>\n",
       "      <th>number_of_reviews</th>\n",
       "      <th>last_review</th>\n",
       "      <th>reviews_per_month</th>\n",
       "      <th>calculated_host_listings_count</th>\n",
       "      <th>availability_365</th>\n",
       "      <th>number_of_reviews_ltm</th>\n",
       "    </tr>\n",
       "  </thead>\n",
       "  <tbody>\n",
       "    <tr>\n",
       "      <th>0</th>\n",
       "      <td>35797</td>\n",
       "      <td>Villa Dante</td>\n",
       "      <td>153786</td>\n",
       "      <td>Dici</td>\n",
       "      <td>Cuajimalpa de Morelos</td>\n",
       "      <td>19.38283</td>\n",
       "      <td>-99.27178</td>\n",
       "      <td>Entire home/apt</td>\n",
       "      <td>4123</td>\n",
       "      <td>1</td>\n",
       "      <td>0</td>\n",
       "      <td>2021-12-19</td>\n",
       "      <td>1.45399</td>\n",
       "      <td>1</td>\n",
       "      <td>363</td>\n",
       "      <td>0</td>\n",
       "    </tr>\n",
       "  </tbody>\n",
       "</table>\n",
       "</div>"
      ],
      "text/plain": [
       "      id         name  host_id host_name          neighbourhood  latitude  \\\n",
       "0  35797  Villa Dante   153786      Dici  Cuajimalpa de Morelos  19.38283   \n",
       "\n",
       "   longitude        room_type  price  minimum_nights  number_of_reviews  \\\n",
       "0  -99.27178  Entire home/apt   4123               1                  0   \n",
       "\n",
       "  last_review  reviews_per_month  calculated_host_listings_count  \\\n",
       "0  2021-12-19            1.45399                               1   \n",
       "\n",
       "   availability_365  number_of_reviews_ltm  \n",
       "0               363                      0  "
      ]
     },
     "execution_count": 259,
     "metadata": {},
     "output_type": "execute_result"
    }
   ],
   "source": [
    "\n",
    "list_df.head(1) # just remembering the columns"
   ]
  },
  {
   "cell_type": "code",
   "execution_count": 260,
   "id": "76ef1901-acec-4ead-a1ec-b1b90dbf7c2a",
   "metadata": {},
   "outputs": [
    {
     "data": {
      "text/html": [
       "<style>#sk-798304f2-c99e-46b4-a466-aa3880ff9898 {color: black;background-color: white;}#sk-798304f2-c99e-46b4-a466-aa3880ff9898 pre{padding: 0;}#sk-798304f2-c99e-46b4-a466-aa3880ff9898 div.sk-toggleable {background-color: white;}#sk-798304f2-c99e-46b4-a466-aa3880ff9898 label.sk-toggleable__label {cursor: pointer;display: block;width: 100%;margin-bottom: 0;padding: 0.3em;box-sizing: border-box;text-align: center;}#sk-798304f2-c99e-46b4-a466-aa3880ff9898 label.sk-toggleable__label-arrow:before {content: \"▸\";float: left;margin-right: 0.25em;color: #696969;}#sk-798304f2-c99e-46b4-a466-aa3880ff9898 label.sk-toggleable__label-arrow:hover:before {color: black;}#sk-798304f2-c99e-46b4-a466-aa3880ff9898 div.sk-estimator:hover label.sk-toggleable__label-arrow:before {color: black;}#sk-798304f2-c99e-46b4-a466-aa3880ff9898 div.sk-toggleable__content {max-height: 0;max-width: 0;overflow: hidden;text-align: left;background-color: #f0f8ff;}#sk-798304f2-c99e-46b4-a466-aa3880ff9898 div.sk-toggleable__content pre {margin: 0.2em;color: black;border-radius: 0.25em;background-color: #f0f8ff;}#sk-798304f2-c99e-46b4-a466-aa3880ff9898 input.sk-toggleable__control:checked~div.sk-toggleable__content {max-height: 200px;max-width: 100%;overflow: auto;}#sk-798304f2-c99e-46b4-a466-aa3880ff9898 input.sk-toggleable__control:checked~label.sk-toggleable__label-arrow:before {content: \"▾\";}#sk-798304f2-c99e-46b4-a466-aa3880ff9898 div.sk-estimator input.sk-toggleable__control:checked~label.sk-toggleable__label {background-color: #d4ebff;}#sk-798304f2-c99e-46b4-a466-aa3880ff9898 div.sk-label input.sk-toggleable__control:checked~label.sk-toggleable__label {background-color: #d4ebff;}#sk-798304f2-c99e-46b4-a466-aa3880ff9898 input.sk-hidden--visually {border: 0;clip: rect(1px 1px 1px 1px);clip: rect(1px, 1px, 1px, 1px);height: 1px;margin: -1px;overflow: hidden;padding: 0;position: absolute;width: 1px;}#sk-798304f2-c99e-46b4-a466-aa3880ff9898 div.sk-estimator {font-family: monospace;background-color: #f0f8ff;border: 1px dotted black;border-radius: 0.25em;box-sizing: border-box;margin-bottom: 0.5em;}#sk-798304f2-c99e-46b4-a466-aa3880ff9898 div.sk-estimator:hover {background-color: #d4ebff;}#sk-798304f2-c99e-46b4-a466-aa3880ff9898 div.sk-parallel-item::after {content: \"\";width: 100%;border-bottom: 1px solid gray;flex-grow: 1;}#sk-798304f2-c99e-46b4-a466-aa3880ff9898 div.sk-label:hover label.sk-toggleable__label {background-color: #d4ebff;}#sk-798304f2-c99e-46b4-a466-aa3880ff9898 div.sk-serial::before {content: \"\";position: absolute;border-left: 1px solid gray;box-sizing: border-box;top: 2em;bottom: 0;left: 50%;}#sk-798304f2-c99e-46b4-a466-aa3880ff9898 div.sk-serial {display: flex;flex-direction: column;align-items: center;background-color: white;padding-right: 0.2em;padding-left: 0.2em;}#sk-798304f2-c99e-46b4-a466-aa3880ff9898 div.sk-item {z-index: 1;}#sk-798304f2-c99e-46b4-a466-aa3880ff9898 div.sk-parallel {display: flex;align-items: stretch;justify-content: center;background-color: white;}#sk-798304f2-c99e-46b4-a466-aa3880ff9898 div.sk-parallel::before {content: \"\";position: absolute;border-left: 1px solid gray;box-sizing: border-box;top: 2em;bottom: 0;left: 50%;}#sk-798304f2-c99e-46b4-a466-aa3880ff9898 div.sk-parallel-item {display: flex;flex-direction: column;position: relative;background-color: white;}#sk-798304f2-c99e-46b4-a466-aa3880ff9898 div.sk-parallel-item:first-child::after {align-self: flex-end;width: 50%;}#sk-798304f2-c99e-46b4-a466-aa3880ff9898 div.sk-parallel-item:last-child::after {align-self: flex-start;width: 50%;}#sk-798304f2-c99e-46b4-a466-aa3880ff9898 div.sk-parallel-item:only-child::after {width: 0;}#sk-798304f2-c99e-46b4-a466-aa3880ff9898 div.sk-dashed-wrapped {border: 1px dashed gray;margin: 0 0.4em 0.5em 0.4em;box-sizing: border-box;padding-bottom: 0.4em;background-color: white;position: relative;}#sk-798304f2-c99e-46b4-a466-aa3880ff9898 div.sk-label label {font-family: monospace;font-weight: bold;background-color: white;display: inline-block;line-height: 1.2em;}#sk-798304f2-c99e-46b4-a466-aa3880ff9898 div.sk-label-container {position: relative;z-index: 2;text-align: center;}#sk-798304f2-c99e-46b4-a466-aa3880ff9898 div.sk-container {/* jupyter's `normalize.less` sets `[hidden] { display: none; }` but bootstrap.min.css set `[hidden] { display: none !important; }` so we also need the `!important` here to be able to override the default hidden behavior on the sphinx rendered scikit-learn.org. See: https://github.com/scikit-learn/scikit-learn/issues/21755 */display: inline-block !important;position: relative;}#sk-798304f2-c99e-46b4-a466-aa3880ff9898 div.sk-text-repr-fallback {display: none;}</style><div id=\"sk-798304f2-c99e-46b4-a466-aa3880ff9898\" class=\"sk-top-container\"><div class=\"sk-text-repr-fallback\"><pre>ColumnTransformer(transformers=[(&#x27;num_trans&#x27;,\n",
       "                                 Pipeline(steps=[(&#x27;imputer&#x27;, SimpleImputer()),\n",
       "                                                 (&#x27;scaler&#x27;, StandardScaler())]),\n",
       "                                 [&#x27;latitude&#x27;, &#x27;longitude&#x27;, &#x27;minimum_nights&#x27;,\n",
       "                                  &#x27;number_of_reviews&#x27;, &#x27;reviews_per_month&#x27;,\n",
       "                                  &#x27;calculated_host_listings_count&#x27;,\n",
       "                                  &#x27;availability_365&#x27;]),\n",
       "                                (&#x27;cat_trans&#x27;,\n",
       "                                 Pipeline(steps=[(&#x27;imputer&#x27;,\n",
       "                                                  SimpleImputer(strategy=&#x27;most_frequent&#x27;)),\n",
       "                                                 (&#x27;encoder&#x27;,\n",
       "                                                  OneHotEncoder(handle_unknown=&#x27;ignore&#x27;))]),\n",
       "                                 [&#x27;neighbourhood&#x27;, &#x27;room_type&#x27;])])</pre><b>Please rerun this cell to show the HTML repr or trust the notebook.</b></div><div class=\"sk-container\" hidden><div class=\"sk-item sk-dashed-wrapped\"><div class=\"sk-label-container\"><div class=\"sk-label sk-toggleable\"><input class=\"sk-toggleable__control sk-hidden--visually\" id=\"6f65fada-e5f7-4847-9486-b97def085b8f\" type=\"checkbox\" ><label for=\"6f65fada-e5f7-4847-9486-b97def085b8f\" class=\"sk-toggleable__label sk-toggleable__label-arrow\">ColumnTransformer</label><div class=\"sk-toggleable__content\"><pre>ColumnTransformer(transformers=[(&#x27;num_trans&#x27;,\n",
       "                                 Pipeline(steps=[(&#x27;imputer&#x27;, SimpleImputer()),\n",
       "                                                 (&#x27;scaler&#x27;, StandardScaler())]),\n",
       "                                 [&#x27;latitude&#x27;, &#x27;longitude&#x27;, &#x27;minimum_nights&#x27;,\n",
       "                                  &#x27;number_of_reviews&#x27;, &#x27;reviews_per_month&#x27;,\n",
       "                                  &#x27;calculated_host_listings_count&#x27;,\n",
       "                                  &#x27;availability_365&#x27;]),\n",
       "                                (&#x27;cat_trans&#x27;,\n",
       "                                 Pipeline(steps=[(&#x27;imputer&#x27;,\n",
       "                                                  SimpleImputer(strategy=&#x27;most_frequent&#x27;)),\n",
       "                                                 (&#x27;encoder&#x27;,\n",
       "                                                  OneHotEncoder(handle_unknown=&#x27;ignore&#x27;))]),\n",
       "                                 [&#x27;neighbourhood&#x27;, &#x27;room_type&#x27;])])</pre></div></div></div><div class=\"sk-parallel\"><div class=\"sk-parallel-item\"><div class=\"sk-item\"><div class=\"sk-label-container\"><div class=\"sk-label sk-toggleable\"><input class=\"sk-toggleable__control sk-hidden--visually\" id=\"2518007d-3db6-4f6d-8d36-ed94d18d77b3\" type=\"checkbox\" ><label for=\"2518007d-3db6-4f6d-8d36-ed94d18d77b3\" class=\"sk-toggleable__label sk-toggleable__label-arrow\">num_trans</label><div class=\"sk-toggleable__content\"><pre>[&#x27;latitude&#x27;, &#x27;longitude&#x27;, &#x27;minimum_nights&#x27;, &#x27;number_of_reviews&#x27;, &#x27;reviews_per_month&#x27;, &#x27;calculated_host_listings_count&#x27;, &#x27;availability_365&#x27;]</pre></div></div></div><div class=\"sk-serial\"><div class=\"sk-item\"><div class=\"sk-serial\"><div class=\"sk-item\"><div class=\"sk-estimator sk-toggleable\"><input class=\"sk-toggleable__control sk-hidden--visually\" id=\"76a43b50-b79b-474a-8ec6-852d0cca7e97\" type=\"checkbox\" ><label for=\"76a43b50-b79b-474a-8ec6-852d0cca7e97\" class=\"sk-toggleable__label sk-toggleable__label-arrow\">SimpleImputer</label><div class=\"sk-toggleable__content\"><pre>SimpleImputer()</pre></div></div></div><div class=\"sk-item\"><div class=\"sk-estimator sk-toggleable\"><input class=\"sk-toggleable__control sk-hidden--visually\" id=\"3994760f-1e66-4327-9d37-bb65ef3edf48\" type=\"checkbox\" ><label for=\"3994760f-1e66-4327-9d37-bb65ef3edf48\" class=\"sk-toggleable__label sk-toggleable__label-arrow\">StandardScaler</label><div class=\"sk-toggleable__content\"><pre>StandardScaler()</pre></div></div></div></div></div></div></div></div><div class=\"sk-parallel-item\"><div class=\"sk-item\"><div class=\"sk-label-container\"><div class=\"sk-label sk-toggleable\"><input class=\"sk-toggleable__control sk-hidden--visually\" id=\"5c19df14-5730-4835-a7ee-b1b07aa1a13a\" type=\"checkbox\" ><label for=\"5c19df14-5730-4835-a7ee-b1b07aa1a13a\" class=\"sk-toggleable__label sk-toggleable__label-arrow\">cat_trans</label><div class=\"sk-toggleable__content\"><pre>[&#x27;neighbourhood&#x27;, &#x27;room_type&#x27;]</pre></div></div></div><div class=\"sk-serial\"><div class=\"sk-item\"><div class=\"sk-serial\"><div class=\"sk-item\"><div class=\"sk-estimator sk-toggleable\"><input class=\"sk-toggleable__control sk-hidden--visually\" id=\"226b5671-0829-4acf-a63b-c520dc4195bc\" type=\"checkbox\" ><label for=\"226b5671-0829-4acf-a63b-c520dc4195bc\" class=\"sk-toggleable__label sk-toggleable__label-arrow\">SimpleImputer</label><div class=\"sk-toggleable__content\"><pre>SimpleImputer(strategy=&#x27;most_frequent&#x27;)</pre></div></div></div><div class=\"sk-item\"><div class=\"sk-estimator sk-toggleable\"><input class=\"sk-toggleable__control sk-hidden--visually\" id=\"e5fa79f1-b4eb-43df-8db0-e029027e8958\" type=\"checkbox\" ><label for=\"e5fa79f1-b4eb-43df-8db0-e029027e8958\" class=\"sk-toggleable__label sk-toggleable__label-arrow\">OneHotEncoder</label><div class=\"sk-toggleable__content\"><pre>OneHotEncoder(handle_unknown=&#x27;ignore&#x27;)</pre></div></div></div></div></div></div></div></div></div></div></div></div>"
      ],
      "text/plain": [
       "ColumnTransformer(transformers=[('num_trans',\n",
       "                                 Pipeline(steps=[('imputer', SimpleImputer()),\n",
       "                                                 ('scaler', StandardScaler())]),\n",
       "                                 ['latitude', 'longitude', 'minimum_nights',\n",
       "                                  'number_of_reviews', 'reviews_per_month',\n",
       "                                  'calculated_host_listings_count',\n",
       "                                  'availability_365']),\n",
       "                                ('cat_trans',\n",
       "                                 Pipeline(steps=[('imputer',\n",
       "                                                  SimpleImputer(strategy='most_frequent')),\n",
       "                                                 ('encoder',\n",
       "                                                  OneHotEncoder(handle_unknown='ignore'))]),\n",
       "                                 ['neighbourhood', 'room_type'])])"
      ]
     },
     "execution_count": 260,
     "metadata": {},
     "output_type": "execute_result"
    }
   ],
   "source": [
    "from sklearn import set_config; set_config(display='diagram')\n",
    "preprocessor"
   ]
  },
  {
   "cell_type": "code",
   "execution_count": 261,
   "id": "6a6056b7-82cf-4bb2-a229-f4ec5a92353f",
   "metadata": {},
   "outputs": [],
   "source": [
    "new_X = list_df.filter(items=['latitude', 'longitude', 'minimum_nights', 'number_of_reviews', 'reviews_per_month', 'calculated_host_listings_count', 'availability_365', 'neighbourhood', 'room_type'])\n",
    "new_y = list_df['price']"
   ]
  },
  {
   "cell_type": "code",
   "execution_count": 262,
   "id": "7c9805c6-3f42-4483-980d-ba5984eb339a",
   "metadata": {},
   "outputs": [],
   "source": [
    "n_X_train, n_X_test, n_y_train, n_y_test = train_test_split(new_X, new_y, test_size=0.30, random_state=1)"
   ]
  },
  {
   "cell_type": "code",
   "execution_count": 263,
   "id": "f3daf969-7565-4888-8603-95c0966e1fe1",
   "metadata": {},
   "outputs": [
    {
     "data": {
      "text/html": [
       "<div>\n",
       "<style scoped>\n",
       "    .dataframe tbody tr th:only-of-type {\n",
       "        vertical-align: middle;\n",
       "    }\n",
       "\n",
       "    .dataframe tbody tr th {\n",
       "        vertical-align: top;\n",
       "    }\n",
       "\n",
       "    .dataframe thead th {\n",
       "        text-align: right;\n",
       "    }\n",
       "</style>\n",
       "<table border=\"1\" class=\"dataframe\">\n",
       "  <thead>\n",
       "    <tr style=\"text-align: right;\">\n",
       "      <th></th>\n",
       "      <th>0</th>\n",
       "      <th>1</th>\n",
       "      <th>2</th>\n",
       "      <th>3</th>\n",
       "      <th>4</th>\n",
       "      <th>5</th>\n",
       "      <th>6</th>\n",
       "      <th>7</th>\n",
       "      <th>8</th>\n",
       "      <th>9</th>\n",
       "      <th>...</th>\n",
       "      <th>17</th>\n",
       "      <th>18</th>\n",
       "      <th>19</th>\n",
       "      <th>20</th>\n",
       "      <th>21</th>\n",
       "      <th>22</th>\n",
       "      <th>23</th>\n",
       "      <th>24</th>\n",
       "      <th>25</th>\n",
       "      <th>26</th>\n",
       "    </tr>\n",
       "  </thead>\n",
       "  <tbody>\n",
       "    <tr>\n",
       "      <th>0</th>\n",
       "      <td>0.279073</td>\n",
       "      <td>0.308552</td>\n",
       "      <td>-0.380461</td>\n",
       "      <td>-0.155912</td>\n",
       "      <td>0.049190</td>\n",
       "      <td>7.416744</td>\n",
       "      <td>0.322458</td>\n",
       "      <td>0.0</td>\n",
       "      <td>0.0</td>\n",
       "      <td>0.0</td>\n",
       "      <td>...</td>\n",
       "      <td>0.0</td>\n",
       "      <td>0.0</td>\n",
       "      <td>0.0</td>\n",
       "      <td>0.0</td>\n",
       "      <td>0.0</td>\n",
       "      <td>0.0</td>\n",
       "      <td>0.0</td>\n",
       "      <td>0.0</td>\n",
       "      <td>1.0</td>\n",
       "      <td>0.0</td>\n",
       "    </tr>\n",
       "    <tr>\n",
       "      <th>1</th>\n",
       "      <td>0.834948</td>\n",
       "      <td>0.268071</td>\n",
       "      <td>0.003205</td>\n",
       "      <td>-0.194692</td>\n",
       "      <td>-0.628589</td>\n",
       "      <td>0.159294</td>\n",
       "      <td>0.919247</td>\n",
       "      <td>0.0</td>\n",
       "      <td>0.0</td>\n",
       "      <td>0.0</td>\n",
       "      <td>...</td>\n",
       "      <td>0.0</td>\n",
       "      <td>0.0</td>\n",
       "      <td>0.0</td>\n",
       "      <td>0.0</td>\n",
       "      <td>0.0</td>\n",
       "      <td>0.0</td>\n",
       "      <td>1.0</td>\n",
       "      <td>0.0</td>\n",
       "      <td>0.0</td>\n",
       "      <td>0.0</td>\n",
       "    </tr>\n",
       "    <tr>\n",
       "      <th>2</th>\n",
       "      <td>0.876725</td>\n",
       "      <td>0.457167</td>\n",
       "      <td>-0.380461</td>\n",
       "      <td>-0.136521</td>\n",
       "      <td>1.388350</td>\n",
       "      <td>-0.234521</td>\n",
       "      <td>-0.516273</td>\n",
       "      <td>0.0</td>\n",
       "      <td>0.0</td>\n",
       "      <td>0.0</td>\n",
       "      <td>...</td>\n",
       "      <td>0.0</td>\n",
       "      <td>0.0</td>\n",
       "      <td>0.0</td>\n",
       "      <td>0.0</td>\n",
       "      <td>0.0</td>\n",
       "      <td>0.0</td>\n",
       "      <td>0.0</td>\n",
       "      <td>0.0</td>\n",
       "      <td>1.0</td>\n",
       "      <td>0.0</td>\n",
       "    </tr>\n",
       "    <tr>\n",
       "      <th>3</th>\n",
       "      <td>-0.196495</td>\n",
       "      <td>-0.180548</td>\n",
       "      <td>-0.380461</td>\n",
       "      <td>-0.427376</td>\n",
       "      <td>1.180643</td>\n",
       "      <td>-0.347039</td>\n",
       "      <td>0.693435</td>\n",
       "      <td>0.0</td>\n",
       "      <td>1.0</td>\n",
       "      <td>0.0</td>\n",
       "      <td>...</td>\n",
       "      <td>0.0</td>\n",
       "      <td>0.0</td>\n",
       "      <td>0.0</td>\n",
       "      <td>0.0</td>\n",
       "      <td>0.0</td>\n",
       "      <td>0.0</td>\n",
       "      <td>1.0</td>\n",
       "      <td>0.0</td>\n",
       "      <td>0.0</td>\n",
       "      <td>0.0</td>\n",
       "    </tr>\n",
       "    <tr>\n",
       "      <th>4</th>\n",
       "      <td>0.830835</td>\n",
       "      <td>-0.559573</td>\n",
       "      <td>-0.188628</td>\n",
       "      <td>1.278971</td>\n",
       "      <td>1.350088</td>\n",
       "      <td>-0.290780</td>\n",
       "      <td>0.967635</td>\n",
       "      <td>0.0</td>\n",
       "      <td>0.0</td>\n",
       "      <td>0.0</td>\n",
       "      <td>...</td>\n",
       "      <td>0.0</td>\n",
       "      <td>0.0</td>\n",
       "      <td>0.0</td>\n",
       "      <td>0.0</td>\n",
       "      <td>0.0</td>\n",
       "      <td>0.0</td>\n",
       "      <td>1.0</td>\n",
       "      <td>0.0</td>\n",
       "      <td>0.0</td>\n",
       "      <td>0.0</td>\n",
       "    </tr>\n",
       "  </tbody>\n",
       "</table>\n",
       "<p>5 rows × 27 columns</p>\n",
       "</div>"
      ],
      "text/plain": [
       "         0         1         2         3         4         5         6    7   \\\n",
       "0  0.279073  0.308552 -0.380461 -0.155912  0.049190  7.416744  0.322458  0.0   \n",
       "1  0.834948  0.268071  0.003205 -0.194692 -0.628589  0.159294  0.919247  0.0   \n",
       "2  0.876725  0.457167 -0.380461 -0.136521  1.388350 -0.234521 -0.516273  0.0   \n",
       "3 -0.196495 -0.180548 -0.380461 -0.427376  1.180643 -0.347039  0.693435  0.0   \n",
       "4  0.830835 -0.559573 -0.188628  1.278971  1.350088 -0.290780  0.967635  0.0   \n",
       "\n",
       "    8    9   ...   17   18   19   20   21   22   23   24   25   26  \n",
       "0  0.0  0.0  ...  0.0  0.0  0.0  0.0  0.0  0.0  0.0  0.0  1.0  0.0  \n",
       "1  0.0  0.0  ...  0.0  0.0  0.0  0.0  0.0  0.0  1.0  0.0  0.0  0.0  \n",
       "2  0.0  0.0  ...  0.0  0.0  0.0  0.0  0.0  0.0  0.0  0.0  1.0  0.0  \n",
       "3  1.0  0.0  ...  0.0  0.0  0.0  0.0  0.0  0.0  1.0  0.0  0.0  0.0  \n",
       "4  0.0  0.0  ...  0.0  0.0  0.0  0.0  0.0  0.0  1.0  0.0  0.0  0.0  \n",
       "\n",
       "[5 rows x 27 columns]"
      ]
     },
     "metadata": {},
     "output_type": "display_data"
    }
   ],
   "source": [
    "X_train_t = preprocessor.fit_transform(n_X_train)\n",
    "\n",
    "display(pd.DataFrame(X_train_t).head()) #looking at the transformed data"
   ]
  },
  {
   "cell_type": "code",
   "execution_count": 264,
   "id": "6f4fd430-15d6-4c37-9e60-e5fc2cbf5bb7",
   "metadata": {},
   "outputs": [
    {
     "data": {
      "text/html": [
       "<style>#sk-3f9ccf67-395c-4a3a-843d-a980506db1f4 {color: black;background-color: white;}#sk-3f9ccf67-395c-4a3a-843d-a980506db1f4 pre{padding: 0;}#sk-3f9ccf67-395c-4a3a-843d-a980506db1f4 div.sk-toggleable {background-color: white;}#sk-3f9ccf67-395c-4a3a-843d-a980506db1f4 label.sk-toggleable__label {cursor: pointer;display: block;width: 100%;margin-bottom: 0;padding: 0.3em;box-sizing: border-box;text-align: center;}#sk-3f9ccf67-395c-4a3a-843d-a980506db1f4 label.sk-toggleable__label-arrow:before {content: \"▸\";float: left;margin-right: 0.25em;color: #696969;}#sk-3f9ccf67-395c-4a3a-843d-a980506db1f4 label.sk-toggleable__label-arrow:hover:before {color: black;}#sk-3f9ccf67-395c-4a3a-843d-a980506db1f4 div.sk-estimator:hover label.sk-toggleable__label-arrow:before {color: black;}#sk-3f9ccf67-395c-4a3a-843d-a980506db1f4 div.sk-toggleable__content {max-height: 0;max-width: 0;overflow: hidden;text-align: left;background-color: #f0f8ff;}#sk-3f9ccf67-395c-4a3a-843d-a980506db1f4 div.sk-toggleable__content pre {margin: 0.2em;color: black;border-radius: 0.25em;background-color: #f0f8ff;}#sk-3f9ccf67-395c-4a3a-843d-a980506db1f4 input.sk-toggleable__control:checked~div.sk-toggleable__content {max-height: 200px;max-width: 100%;overflow: auto;}#sk-3f9ccf67-395c-4a3a-843d-a980506db1f4 input.sk-toggleable__control:checked~label.sk-toggleable__label-arrow:before {content: \"▾\";}#sk-3f9ccf67-395c-4a3a-843d-a980506db1f4 div.sk-estimator input.sk-toggleable__control:checked~label.sk-toggleable__label {background-color: #d4ebff;}#sk-3f9ccf67-395c-4a3a-843d-a980506db1f4 div.sk-label input.sk-toggleable__control:checked~label.sk-toggleable__label {background-color: #d4ebff;}#sk-3f9ccf67-395c-4a3a-843d-a980506db1f4 input.sk-hidden--visually {border: 0;clip: rect(1px 1px 1px 1px);clip: rect(1px, 1px, 1px, 1px);height: 1px;margin: -1px;overflow: hidden;padding: 0;position: absolute;width: 1px;}#sk-3f9ccf67-395c-4a3a-843d-a980506db1f4 div.sk-estimator {font-family: monospace;background-color: #f0f8ff;border: 1px dotted black;border-radius: 0.25em;box-sizing: border-box;margin-bottom: 0.5em;}#sk-3f9ccf67-395c-4a3a-843d-a980506db1f4 div.sk-estimator:hover {background-color: #d4ebff;}#sk-3f9ccf67-395c-4a3a-843d-a980506db1f4 div.sk-parallel-item::after {content: \"\";width: 100%;border-bottom: 1px solid gray;flex-grow: 1;}#sk-3f9ccf67-395c-4a3a-843d-a980506db1f4 div.sk-label:hover label.sk-toggleable__label {background-color: #d4ebff;}#sk-3f9ccf67-395c-4a3a-843d-a980506db1f4 div.sk-serial::before {content: \"\";position: absolute;border-left: 1px solid gray;box-sizing: border-box;top: 2em;bottom: 0;left: 50%;}#sk-3f9ccf67-395c-4a3a-843d-a980506db1f4 div.sk-serial {display: flex;flex-direction: column;align-items: center;background-color: white;padding-right: 0.2em;padding-left: 0.2em;}#sk-3f9ccf67-395c-4a3a-843d-a980506db1f4 div.sk-item {z-index: 1;}#sk-3f9ccf67-395c-4a3a-843d-a980506db1f4 div.sk-parallel {display: flex;align-items: stretch;justify-content: center;background-color: white;}#sk-3f9ccf67-395c-4a3a-843d-a980506db1f4 div.sk-parallel::before {content: \"\";position: absolute;border-left: 1px solid gray;box-sizing: border-box;top: 2em;bottom: 0;left: 50%;}#sk-3f9ccf67-395c-4a3a-843d-a980506db1f4 div.sk-parallel-item {display: flex;flex-direction: column;position: relative;background-color: white;}#sk-3f9ccf67-395c-4a3a-843d-a980506db1f4 div.sk-parallel-item:first-child::after {align-self: flex-end;width: 50%;}#sk-3f9ccf67-395c-4a3a-843d-a980506db1f4 div.sk-parallel-item:last-child::after {align-self: flex-start;width: 50%;}#sk-3f9ccf67-395c-4a3a-843d-a980506db1f4 div.sk-parallel-item:only-child::after {width: 0;}#sk-3f9ccf67-395c-4a3a-843d-a980506db1f4 div.sk-dashed-wrapped {border: 1px dashed gray;margin: 0 0.4em 0.5em 0.4em;box-sizing: border-box;padding-bottom: 0.4em;background-color: white;position: relative;}#sk-3f9ccf67-395c-4a3a-843d-a980506db1f4 div.sk-label label {font-family: monospace;font-weight: bold;background-color: white;display: inline-block;line-height: 1.2em;}#sk-3f9ccf67-395c-4a3a-843d-a980506db1f4 div.sk-label-container {position: relative;z-index: 2;text-align: center;}#sk-3f9ccf67-395c-4a3a-843d-a980506db1f4 div.sk-container {/* jupyter's `normalize.less` sets `[hidden] { display: none; }` but bootstrap.min.css set `[hidden] { display: none !important; }` so we also need the `!important` here to be able to override the default hidden behavior on the sphinx rendered scikit-learn.org. See: https://github.com/scikit-learn/scikit-learn/issues/21755 */display: inline-block !important;position: relative;}#sk-3f9ccf67-395c-4a3a-843d-a980506db1f4 div.sk-text-repr-fallback {display: none;}</style><div id=\"sk-3f9ccf67-395c-4a3a-843d-a980506db1f4\" class=\"sk-top-container\"><div class=\"sk-text-repr-fallback\"><pre>Pipeline(steps=[(&#x27;columntransformer&#x27;,\n",
       "                 ColumnTransformer(transformers=[(&#x27;num_trans&#x27;,\n",
       "                                                  Pipeline(steps=[(&#x27;imputer&#x27;,\n",
       "                                                                   SimpleImputer()),\n",
       "                                                                  (&#x27;scaler&#x27;,\n",
       "                                                                   StandardScaler())]),\n",
       "                                                  [&#x27;latitude&#x27;, &#x27;longitude&#x27;,\n",
       "                                                   &#x27;minimum_nights&#x27;,\n",
       "                                                   &#x27;number_of_reviews&#x27;,\n",
       "                                                   &#x27;reviews_per_month&#x27;,\n",
       "                                                   &#x27;calculated_host_listings_count&#x27;,\n",
       "                                                   &#x27;availability_365&#x27;]),\n",
       "                                                 (&#x27;cat_trans&#x27;,\n",
       "                                                  Pipeline(steps=[(&#x27;imputer&#x27;,\n",
       "                                                                   SimpleImputer(strategy=&#x27;most_frequent&#x27;)),\n",
       "                                                                  (&#x27;encoder&#x27;,\n",
       "                                                                   OneHotEncoder(handle_unknown=&#x27;ignore&#x27;))]),\n",
       "                                                  [&#x27;neighbourhood&#x27;,\n",
       "                                                   &#x27;room_type&#x27;])])),\n",
       "                (&#x27;kneighborsregressor&#x27;, KNeighborsRegressor(n_neighbors=25))])</pre><b>Please rerun this cell to show the HTML repr or trust the notebook.</b></div><div class=\"sk-container\" hidden><div class=\"sk-item sk-dashed-wrapped\"><div class=\"sk-label-container\"><div class=\"sk-label sk-toggleable\"><input class=\"sk-toggleable__control sk-hidden--visually\" id=\"5cac80b2-9c54-4e6b-a94b-782816583c63\" type=\"checkbox\" ><label for=\"5cac80b2-9c54-4e6b-a94b-782816583c63\" class=\"sk-toggleable__label sk-toggleable__label-arrow\">Pipeline</label><div class=\"sk-toggleable__content\"><pre>Pipeline(steps=[(&#x27;columntransformer&#x27;,\n",
       "                 ColumnTransformer(transformers=[(&#x27;num_trans&#x27;,\n",
       "                                                  Pipeline(steps=[(&#x27;imputer&#x27;,\n",
       "                                                                   SimpleImputer()),\n",
       "                                                                  (&#x27;scaler&#x27;,\n",
       "                                                                   StandardScaler())]),\n",
       "                                                  [&#x27;latitude&#x27;, &#x27;longitude&#x27;,\n",
       "                                                   &#x27;minimum_nights&#x27;,\n",
       "                                                   &#x27;number_of_reviews&#x27;,\n",
       "                                                   &#x27;reviews_per_month&#x27;,\n",
       "                                                   &#x27;calculated_host_listings_count&#x27;,\n",
       "                                                   &#x27;availability_365&#x27;]),\n",
       "                                                 (&#x27;cat_trans&#x27;,\n",
       "                                                  Pipeline(steps=[(&#x27;imputer&#x27;,\n",
       "                                                                   SimpleImputer(strategy=&#x27;most_frequent&#x27;)),\n",
       "                                                                  (&#x27;encoder&#x27;,\n",
       "                                                                   OneHotEncoder(handle_unknown=&#x27;ignore&#x27;))]),\n",
       "                                                  [&#x27;neighbourhood&#x27;,\n",
       "                                                   &#x27;room_type&#x27;])])),\n",
       "                (&#x27;kneighborsregressor&#x27;, KNeighborsRegressor(n_neighbors=25))])</pre></div></div></div><div class=\"sk-serial\"><div class=\"sk-item sk-dashed-wrapped\"><div class=\"sk-label-container\"><div class=\"sk-label sk-toggleable\"><input class=\"sk-toggleable__control sk-hidden--visually\" id=\"8209c6a0-5efa-4ca8-b05e-b102e7cc8bf9\" type=\"checkbox\" ><label for=\"8209c6a0-5efa-4ca8-b05e-b102e7cc8bf9\" class=\"sk-toggleable__label sk-toggleable__label-arrow\">columntransformer: ColumnTransformer</label><div class=\"sk-toggleable__content\"><pre>ColumnTransformer(transformers=[(&#x27;num_trans&#x27;,\n",
       "                                 Pipeline(steps=[(&#x27;imputer&#x27;, SimpleImputer()),\n",
       "                                                 (&#x27;scaler&#x27;, StandardScaler())]),\n",
       "                                 [&#x27;latitude&#x27;, &#x27;longitude&#x27;, &#x27;minimum_nights&#x27;,\n",
       "                                  &#x27;number_of_reviews&#x27;, &#x27;reviews_per_month&#x27;,\n",
       "                                  &#x27;calculated_host_listings_count&#x27;,\n",
       "                                  &#x27;availability_365&#x27;]),\n",
       "                                (&#x27;cat_trans&#x27;,\n",
       "                                 Pipeline(steps=[(&#x27;imputer&#x27;,\n",
       "                                                  SimpleImputer(strategy=&#x27;most_frequent&#x27;)),\n",
       "                                                 (&#x27;encoder&#x27;,\n",
       "                                                  OneHotEncoder(handle_unknown=&#x27;ignore&#x27;))]),\n",
       "                                 [&#x27;neighbourhood&#x27;, &#x27;room_type&#x27;])])</pre></div></div></div><div class=\"sk-parallel\"><div class=\"sk-parallel-item\"><div class=\"sk-item\"><div class=\"sk-label-container\"><div class=\"sk-label sk-toggleable\"><input class=\"sk-toggleable__control sk-hidden--visually\" id=\"7f0da2da-3030-46f3-99fa-d72f81150f14\" type=\"checkbox\" ><label for=\"7f0da2da-3030-46f3-99fa-d72f81150f14\" class=\"sk-toggleable__label sk-toggleable__label-arrow\">num_trans</label><div class=\"sk-toggleable__content\"><pre>[&#x27;latitude&#x27;, &#x27;longitude&#x27;, &#x27;minimum_nights&#x27;, &#x27;number_of_reviews&#x27;, &#x27;reviews_per_month&#x27;, &#x27;calculated_host_listings_count&#x27;, &#x27;availability_365&#x27;]</pre></div></div></div><div class=\"sk-serial\"><div class=\"sk-item\"><div class=\"sk-serial\"><div class=\"sk-item\"><div class=\"sk-estimator sk-toggleable\"><input class=\"sk-toggleable__control sk-hidden--visually\" id=\"19c0204f-7219-41fb-8ff5-fa6ffe164c4e\" type=\"checkbox\" ><label for=\"19c0204f-7219-41fb-8ff5-fa6ffe164c4e\" class=\"sk-toggleable__label sk-toggleable__label-arrow\">SimpleImputer</label><div class=\"sk-toggleable__content\"><pre>SimpleImputer()</pre></div></div></div><div class=\"sk-item\"><div class=\"sk-estimator sk-toggleable\"><input class=\"sk-toggleable__control sk-hidden--visually\" id=\"bc7e85db-7887-4916-91ee-fb2812a544fd\" type=\"checkbox\" ><label for=\"bc7e85db-7887-4916-91ee-fb2812a544fd\" class=\"sk-toggleable__label sk-toggleable__label-arrow\">StandardScaler</label><div class=\"sk-toggleable__content\"><pre>StandardScaler()</pre></div></div></div></div></div></div></div></div><div class=\"sk-parallel-item\"><div class=\"sk-item\"><div class=\"sk-label-container\"><div class=\"sk-label sk-toggleable\"><input class=\"sk-toggleable__control sk-hidden--visually\" id=\"7391d81e-9eb3-4fb2-bedd-c4e399eb0eee\" type=\"checkbox\" ><label for=\"7391d81e-9eb3-4fb2-bedd-c4e399eb0eee\" class=\"sk-toggleable__label sk-toggleable__label-arrow\">cat_trans</label><div class=\"sk-toggleable__content\"><pre>[&#x27;neighbourhood&#x27;, &#x27;room_type&#x27;]</pre></div></div></div><div class=\"sk-serial\"><div class=\"sk-item\"><div class=\"sk-serial\"><div class=\"sk-item\"><div class=\"sk-estimator sk-toggleable\"><input class=\"sk-toggleable__control sk-hidden--visually\" id=\"330ae411-deec-45e3-b920-60858d7aef2b\" type=\"checkbox\" ><label for=\"330ae411-deec-45e3-b920-60858d7aef2b\" class=\"sk-toggleable__label sk-toggleable__label-arrow\">SimpleImputer</label><div class=\"sk-toggleable__content\"><pre>SimpleImputer(strategy=&#x27;most_frequent&#x27;)</pre></div></div></div><div class=\"sk-item\"><div class=\"sk-estimator sk-toggleable\"><input class=\"sk-toggleable__control sk-hidden--visually\" id=\"538c08ae-a6ed-4126-a5b0-21cb99c36b40\" type=\"checkbox\" ><label for=\"538c08ae-a6ed-4126-a5b0-21cb99c36b40\" class=\"sk-toggleable__label sk-toggleable__label-arrow\">OneHotEncoder</label><div class=\"sk-toggleable__content\"><pre>OneHotEncoder(handle_unknown=&#x27;ignore&#x27;)</pre></div></div></div></div></div></div></div></div></div></div><div class=\"sk-item\"><div class=\"sk-estimator sk-toggleable\"><input class=\"sk-toggleable__control sk-hidden--visually\" id=\"3f9fb15d-0873-47a3-a257-be85c054984a\" type=\"checkbox\" ><label for=\"3f9fb15d-0873-47a3-a257-be85c054984a\" class=\"sk-toggleable__label sk-toggleable__label-arrow\">KNeighborsRegressor</label><div class=\"sk-toggleable__content\"><pre>KNeighborsRegressor(n_neighbors=25)</pre></div></div></div></div></div></div></div>"
      ],
      "text/plain": [
       "Pipeline(steps=[('columntransformer',\n",
       "                 ColumnTransformer(transformers=[('num_trans',\n",
       "                                                  Pipeline(steps=[('imputer',\n",
       "                                                                   SimpleImputer()),\n",
       "                                                                  ('scaler',\n",
       "                                                                   StandardScaler())]),\n",
       "                                                  ['latitude', 'longitude',\n",
       "                                                   'minimum_nights',\n",
       "                                                   'number_of_reviews',\n",
       "                                                   'reviews_per_month',\n",
       "                                                   'calculated_host_listings_count',\n",
       "                                                   'availability_365']),\n",
       "                                                 ('cat_trans',\n",
       "                                                  Pipeline(steps=[('imputer',\n",
       "                                                                   SimpleImputer(strategy='most_frequent')),\n",
       "                                                                  ('encoder',\n",
       "                                                                   OneHotEncoder(handle_unknown='ignore'))]),\n",
       "                                                  ['neighbourhood',\n",
       "                                                   'room_type'])])),\n",
       "                ('kneighborsregressor', KNeighborsRegressor(n_neighbors=25))])"
      ]
     },
     "execution_count": 264,
     "metadata": {},
     "output_type": "execute_result"
    }
   ],
   "source": [
    "from sklearn.pipeline import make_pipeline\n",
    "\n",
    "pipe_m = make_pipeline(preprocessor, kn_model)\n",
    "pipe_m"
   ]
  },
  {
   "cell_type": "code",
   "execution_count": 265,
   "id": "764aa600-e1e2-41c4-acb0-38055bd02a57",
   "metadata": {},
   "outputs": [
    {
     "data": {
      "text/plain": [
       "0.22444322072567535"
      ]
     },
     "execution_count": 265,
     "metadata": {},
     "output_type": "execute_result"
    }
   ],
   "source": [
    "#testing the pipeline with the kn_model previously declared\n",
    "\n",
    "pipe_m.fit(n_X_train, n_y_train)\n",
    "\n",
    "pipe_m.score(n_X_test, n_y_test)"
   ]
  },
  {
   "cell_type": "code",
   "execution_count": 241,
   "id": "cfa087ae-9b56-4e3b-8c14-463522b82f00",
   "metadata": {},
   "outputs": [
    {
     "data": {
      "text/plain": [
       "0.21341178046547138"
      ]
     },
     "execution_count": 241,
     "metadata": {},
     "output_type": "execute_result"
    }
   ],
   "source": [
    "cross_val_score(pipe_m, n_X_train, n_y_train, cv=10, scoring='r2').mean()"
   ]
  },
  {
   "cell_type": "markdown",
   "id": "fde03fa8-9a9f-4b85-bf13-e04667815f9f",
   "metadata": {},
   "source": [
    "We see simillar results since the process is the same, it's just automatized into a pipeline, next i will do the search for the best model and hyperparameters"
   ]
  },
  {
   "cell_type": "markdown",
   "id": "a594e5bf-397a-4a7f-a5f5-828cb7fd394e",
   "metadata": {},
   "source": [
    "### Performing randomized search"
   ]
  },
  {
   "cell_type": "markdown",
   "id": "3078d585-e087-41b8-81ce-7f35440c40f5",
   "metadata": {},
   "source": [
    "Using TPOT automatic search, i use the preprocessor pipeline built previously in order to find the best model with the best parameters, so the best score is achieved."
   ]
  },
  {
   "cell_type": "code",
   "execution_count": 246,
   "id": "45a04bbf-f438-48d9-840a-717418619ace",
   "metadata": {},
   "outputs": [],
   "source": [
    "#pipe_m.get_params() #exploring the parameters of the pipeline"
   ]
  },
  {
   "cell_type": "code",
   "execution_count": 247,
   "id": "5275427a-4791-4a39-88ff-482945a2e99a",
   "metadata": {},
   "outputs": [
    {
     "name": "stderr",
     "output_type": "stream",
     "text": [
      "/home/drifter/.pyenv/versions/3.8.12/envs/lewagon/lib/python3.8/site-packages/tpot/builtins/__init__.py:36: UserWarning: Warning: optional dependency `torch` is not available. - skipping import of NN models.\n",
      "  warnings.warn(\"Warning: optional dependency `torch` is not available. - skipping import of NN models.\")\n"
     ]
    }
   ],
   "source": [
    "import os\n",
    "from tpot import TPOTRegressor\n",
    "\n",
    "X_train_pre = preprocessor.fit_transform(n_X_train)\n",
    "X_test_pre = preprocessor.fit_transform(n_X_test)"
   ]
  },
  {
   "cell_type": "code",
   "execution_count": 248,
   "id": "15773c2c-2436-4d05-bf17-67a3b0d75903",
   "metadata": {},
   "outputs": [
    {
     "data": {
      "application/vnd.jupyter.widget-view+json": {
       "model_id": "",
       "version_major": 2,
       "version_minor": 0
      },
      "text/plain": [
       "Optimization Progress:   0%|          | 0/100 [00:00<?, ?pipeline/s]"
      ]
     },
     "metadata": {},
     "output_type": "display_data"
    },
    {
     "name": "stdout",
     "output_type": "stream",
     "text": [
      "\n",
      "Generation 1 - Current best internal CV score: 0.267854566908986\n",
      "\n",
      "Generation 2 - Current best internal CV score: 0.2703065749661537\n",
      "\n",
      "Generation 3 - Current best internal CV score: 0.2703065749661537\n",
      "\n",
      "Generation 4 - Current best internal CV score: 0.2703065749661537\n",
      "\n",
      "Best pipeline: RandomForestRegressor(input_matrix, bootstrap=True, max_features=1.0, min_samples_leaf=4, min_samples_split=18, n_estimators=100)\n",
      "0.3246672675369535\n"
     ]
    },
    {
     "name": "stderr",
     "output_type": "stream",
     "text": [
      "/home/drifter/.pyenv/versions/3.8.12/envs/lewagon/lib/python3.8/site-packages/tpot/builtins/__init__.py:36: UserWarning: Warning: optional dependency `torch` is not available. - skipping import of NN models.\n",
      "  warnings.warn(\"Warning: optional dependency `torch` is not available. - skipping import of NN models.\")\n",
      "/home/drifter/.pyenv/versions/3.8.12/envs/lewagon/lib/python3.8/site-packages/tpot/builtins/__init__.py:36: UserWarning: Warning: optional dependency `torch` is not available. - skipping import of NN models.\n",
      "  warnings.warn(\"Warning: optional dependency `torch` is not available. - skipping import of NN models.\")\n",
      "/home/drifter/.pyenv/versions/3.8.12/envs/lewagon/lib/python3.8/site-packages/tpot/builtins/__init__.py:36: UserWarning: Warning: optional dependency `torch` is not available. - skipping import of NN models.\n",
      "  warnings.warn(\"Warning: optional dependency `torch` is not available. - skipping import of NN models.\")\n",
      "/home/drifter/.pyenv/versions/3.8.12/envs/lewagon/lib/python3.8/site-packages/tpot/builtins/__init__.py:36: UserWarning: Warning: optional dependency `torch` is not available. - skipping import of NN models.\n",
      "  warnings.warn(\"Warning: optional dependency `torch` is not available. - skipping import of NN models.\")\n",
      "/home/drifter/.pyenv/versions/3.8.12/envs/lewagon/lib/python3.8/site-packages/tpot/builtins/__init__.py:36: UserWarning: Warning: optional dependency `torch` is not available. - skipping import of NN models.\n",
      "  warnings.warn(\"Warning: optional dependency `torch` is not available. - skipping import of NN models.\")\n",
      "/home/drifter/.pyenv/versions/3.8.12/envs/lewagon/lib/python3.8/site-packages/tpot/builtins/__init__.py:36: UserWarning: Warning: optional dependency `torch` is not available. - skipping import of NN models.\n",
      "  warnings.warn(\"Warning: optional dependency `torch` is not available. - skipping import of NN models.\")\n",
      "/home/drifter/.pyenv/versions/3.8.12/envs/lewagon/lib/python3.8/site-packages/tpot/builtins/__init__.py:36: UserWarning: Warning: optional dependency `torch` is not available. - skipping import of NN models.\n",
      "  warnings.warn(\"Warning: optional dependency `torch` is not available. - skipping import of NN models.\")\n",
      "/home/drifter/.pyenv/versions/3.8.12/envs/lewagon/lib/python3.8/site-packages/tpot/builtins/__init__.py:36: UserWarning: Warning: optional dependency `torch` is not available. - skipping import of NN models.\n",
      "  warnings.warn(\"Warning: optional dependency `torch` is not available. - skipping import of NN models.\")\n"
     ]
    }
   ],
   "source": [
    "tpot = TPOTRegressor(generations=4, population_size=20, verbosity=2, scoring='r2', n_jobs=-1, cv=2)\n",
    "\n",
    "tpot.fit(X_train_pre, n_y_train)\n",
    "\n",
    "print(tpot.score(X_test_pre, n_y_test))"
   ]
  },
  {
   "cell_type": "markdown",
   "id": "6ca1e8fd-6e2f-4ca7-aeef-e422ba73187a",
   "metadata": {},
   "source": [
    "# FINAL CONCLUSIONS\n",
    "* ## Under manual modelling, the best model was found to be KN regressor with 25 neighboirs, having a final r2 score of 0.24\n",
    "* ## Automatic search for best model and best parameters showed that the best model for these data was RandomForest regressor with a final r2 score of 0.32\n",
    "* ## Neither of those results are enough to predict the price per night of an airbnb room in Mexico City\n",
    "* ## The downloaded data wasn't enogh to perform regression models as suggested by the lack of correlation among the variables\n",
    "\n",
    "* ## Classification models could still be an option to explore"
   ]
  },
  {
   "cell_type": "code",
   "execution_count": null,
   "id": "5a87aa97-43b1-406a-9419-fa56658e76aa",
   "metadata": {},
   "outputs": [],
   "source": []
  }
 ],
 "metadata": {
  "kernelspec": {
   "display_name": "Python 3 (ipykernel)",
   "language": "python",
   "name": "python3"
  },
  "language_info": {
   "codemirror_mode": {
    "name": "ipython",
    "version": 3
   },
   "file_extension": ".py",
   "mimetype": "text/x-python",
   "name": "python",
   "nbconvert_exporter": "python",
   "pygments_lexer": "ipython3",
   "version": "3.8.12"
  },
  "toc": {
   "base_numbering": 1,
   "nav_menu": {},
   "number_sections": true,
   "sideBar": true,
   "skip_h1_title": false,
   "title_cell": "Table of Contents",
   "title_sidebar": "Contents",
   "toc_cell": false,
   "toc_position": {},
   "toc_section_display": true,
   "toc_window_display": false
  }
 },
 "nbformat": 4,
 "nbformat_minor": 5
}
